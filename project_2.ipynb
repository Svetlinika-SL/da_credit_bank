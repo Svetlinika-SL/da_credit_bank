{
 "cells": [
  {
   "cell_type": "markdown",
   "id": "ea313fe3",
   "metadata": {
    "deletable": false,
    "editable": false,
    "id": "c81daeeb"
   },
   "source": [
    "# Исследование надежности заемщиков\n"
   ]
  },
  {
   "cell_type": "markdown",
   "id": "cef5b048",
   "metadata": {
    "deletable": false,
    "editable": false,
    "id": "827c20bf"
   },
   "source": [
    "Во второй части проекта вы выполните шаги 3 и 4. Их вручную проверит ревьюер.\n",
    "Чтобы вам не пришлось писать код заново для шагов 1 и 2, мы добавили авторские решения в ячейки с кодом. \n",
    "\n"
   ]
  },
  {
   "cell_type": "markdown",
   "id": "f61abfad",
   "metadata": {
    "deletable": false,
    "editable": false,
    "id": "744d7639"
   },
   "source": [
    "## Откройте таблицу и изучите общую информацию о данных"
   ]
  },
  {
   "cell_type": "markdown",
   "id": "3e3eaf17",
   "metadata": {
    "deletable": false,
    "editable": false,
    "id": "e7a14c31"
   },
   "source": [
    "**Задание 1. Импортируйте библиотеку pandas. Считайте данные из csv-файла в датафрейм и сохраните в переменную `data`. Путь к файлу:**\n",
    "\n",
    "`/datasets/data.csv`"
   ]
  },
  {
   "cell_type": "markdown",
   "id": "36fc651c",
   "metadata": {},
   "source": [
    "***Импортируем данные, изучим и подготовим их к анализу.***"
   ]
  },
  {
   "cell_type": "markdown",
   "id": "b27e326d",
   "metadata": {},
   "source": [
    "*Для начала импортируем библиотеку Pandas и файл с данными для дальнейшей работы:*"
   ]
  },
  {
   "cell_type": "code",
   "execution_count": 1,
   "id": "d12bc96f",
   "metadata": {
    "deletable": false,
    "id": "7bcf75c9"
   },
   "outputs": [],
   "source": [
    "import pandas as pd\n",
    "\n",
    "try:\n",
    "    data = pd.read_csv('/datasets/data.csv')\n",
    "except:\n",
    "    data = pd.read_csv('https://code.s3.yandex.net/datasets/data.csv')"
   ]
  },
  {
   "cell_type": "markdown",
   "id": "cfdbeb7b",
   "metadata": {
    "deletable": false,
    "editable": false,
    "id": "b8038fe3"
   },
   "source": [
    "**Задание 2. Выведите первые 20 строчек датафрейма `data` на экран.**"
   ]
  },
  {
   "cell_type": "markdown",
   "id": "4db893c7",
   "metadata": {},
   "source": [
    "*Выведем 20 строк датафрейма для изучения данных:*"
   ]
  },
  {
   "cell_type": "code",
   "execution_count": 2,
   "id": "7482509d",
   "metadata": {
    "deletable": false,
    "id": "2a7cab99",
    "outputId": "1a8f3ef2-d323-4ec2-ddf7-89670b5944c4",
    "scrolled": true
   },
   "outputs": [
    {
     "data": {
      "text/html": [
       "<div>\n",
       "<style scoped>\n",
       "    .dataframe tbody tr th:only-of-type {\n",
       "        vertical-align: middle;\n",
       "    }\n",
       "\n",
       "    .dataframe tbody tr th {\n",
       "        vertical-align: top;\n",
       "    }\n",
       "\n",
       "    .dataframe thead th {\n",
       "        text-align: right;\n",
       "    }\n",
       "</style>\n",
       "<table border=\"1\" class=\"dataframe\">\n",
       "  <thead>\n",
       "    <tr style=\"text-align: right;\">\n",
       "      <th></th>\n",
       "      <th>children</th>\n",
       "      <th>days_employed</th>\n",
       "      <th>dob_years</th>\n",
       "      <th>education</th>\n",
       "      <th>education_id</th>\n",
       "      <th>family_status</th>\n",
       "      <th>family_status_id</th>\n",
       "      <th>gender</th>\n",
       "      <th>income_type</th>\n",
       "      <th>debt</th>\n",
       "      <th>total_income</th>\n",
       "      <th>purpose</th>\n",
       "    </tr>\n",
       "  </thead>\n",
       "  <tbody>\n",
       "    <tr>\n",
       "      <th>0</th>\n",
       "      <td>1</td>\n",
       "      <td>-8437.673028</td>\n",
       "      <td>42</td>\n",
       "      <td>высшее</td>\n",
       "      <td>0</td>\n",
       "      <td>женат / замужем</td>\n",
       "      <td>0</td>\n",
       "      <td>F</td>\n",
       "      <td>сотрудник</td>\n",
       "      <td>0</td>\n",
       "      <td>253875.639453</td>\n",
       "      <td>покупка жилья</td>\n",
       "    </tr>\n",
       "    <tr>\n",
       "      <th>1</th>\n",
       "      <td>1</td>\n",
       "      <td>-4024.803754</td>\n",
       "      <td>36</td>\n",
       "      <td>среднее</td>\n",
       "      <td>1</td>\n",
       "      <td>женат / замужем</td>\n",
       "      <td>0</td>\n",
       "      <td>F</td>\n",
       "      <td>сотрудник</td>\n",
       "      <td>0</td>\n",
       "      <td>112080.014102</td>\n",
       "      <td>приобретение автомобиля</td>\n",
       "    </tr>\n",
       "    <tr>\n",
       "      <th>2</th>\n",
       "      <td>0</td>\n",
       "      <td>-5623.422610</td>\n",
       "      <td>33</td>\n",
       "      <td>Среднее</td>\n",
       "      <td>1</td>\n",
       "      <td>женат / замужем</td>\n",
       "      <td>0</td>\n",
       "      <td>M</td>\n",
       "      <td>сотрудник</td>\n",
       "      <td>0</td>\n",
       "      <td>145885.952297</td>\n",
       "      <td>покупка жилья</td>\n",
       "    </tr>\n",
       "    <tr>\n",
       "      <th>3</th>\n",
       "      <td>3</td>\n",
       "      <td>-4124.747207</td>\n",
       "      <td>32</td>\n",
       "      <td>среднее</td>\n",
       "      <td>1</td>\n",
       "      <td>женат / замужем</td>\n",
       "      <td>0</td>\n",
       "      <td>M</td>\n",
       "      <td>сотрудник</td>\n",
       "      <td>0</td>\n",
       "      <td>267628.550329</td>\n",
       "      <td>дополнительное образование</td>\n",
       "    </tr>\n",
       "    <tr>\n",
       "      <th>4</th>\n",
       "      <td>0</td>\n",
       "      <td>340266.072047</td>\n",
       "      <td>53</td>\n",
       "      <td>среднее</td>\n",
       "      <td>1</td>\n",
       "      <td>гражданский брак</td>\n",
       "      <td>1</td>\n",
       "      <td>F</td>\n",
       "      <td>пенсионер</td>\n",
       "      <td>0</td>\n",
       "      <td>158616.077870</td>\n",
       "      <td>сыграть свадьбу</td>\n",
       "    </tr>\n",
       "    <tr>\n",
       "      <th>5</th>\n",
       "      <td>0</td>\n",
       "      <td>-926.185831</td>\n",
       "      <td>27</td>\n",
       "      <td>высшее</td>\n",
       "      <td>0</td>\n",
       "      <td>гражданский брак</td>\n",
       "      <td>1</td>\n",
       "      <td>M</td>\n",
       "      <td>компаньон</td>\n",
       "      <td>0</td>\n",
       "      <td>255763.565419</td>\n",
       "      <td>покупка жилья</td>\n",
       "    </tr>\n",
       "    <tr>\n",
       "      <th>6</th>\n",
       "      <td>0</td>\n",
       "      <td>-2879.202052</td>\n",
       "      <td>43</td>\n",
       "      <td>высшее</td>\n",
       "      <td>0</td>\n",
       "      <td>женат / замужем</td>\n",
       "      <td>0</td>\n",
       "      <td>F</td>\n",
       "      <td>компаньон</td>\n",
       "      <td>0</td>\n",
       "      <td>240525.971920</td>\n",
       "      <td>операции с жильем</td>\n",
       "    </tr>\n",
       "    <tr>\n",
       "      <th>7</th>\n",
       "      <td>0</td>\n",
       "      <td>-152.779569</td>\n",
       "      <td>50</td>\n",
       "      <td>СРЕДНЕЕ</td>\n",
       "      <td>1</td>\n",
       "      <td>женат / замужем</td>\n",
       "      <td>0</td>\n",
       "      <td>M</td>\n",
       "      <td>сотрудник</td>\n",
       "      <td>0</td>\n",
       "      <td>135823.934197</td>\n",
       "      <td>образование</td>\n",
       "    </tr>\n",
       "    <tr>\n",
       "      <th>8</th>\n",
       "      <td>2</td>\n",
       "      <td>-6929.865299</td>\n",
       "      <td>35</td>\n",
       "      <td>ВЫСШЕЕ</td>\n",
       "      <td>0</td>\n",
       "      <td>гражданский брак</td>\n",
       "      <td>1</td>\n",
       "      <td>F</td>\n",
       "      <td>сотрудник</td>\n",
       "      <td>0</td>\n",
       "      <td>95856.832424</td>\n",
       "      <td>на проведение свадьбы</td>\n",
       "    </tr>\n",
       "    <tr>\n",
       "      <th>9</th>\n",
       "      <td>0</td>\n",
       "      <td>-2188.756445</td>\n",
       "      <td>41</td>\n",
       "      <td>среднее</td>\n",
       "      <td>1</td>\n",
       "      <td>женат / замужем</td>\n",
       "      <td>0</td>\n",
       "      <td>M</td>\n",
       "      <td>сотрудник</td>\n",
       "      <td>0</td>\n",
       "      <td>144425.938277</td>\n",
       "      <td>покупка жилья для семьи</td>\n",
       "    </tr>\n",
       "    <tr>\n",
       "      <th>10</th>\n",
       "      <td>2</td>\n",
       "      <td>-4171.483647</td>\n",
       "      <td>36</td>\n",
       "      <td>высшее</td>\n",
       "      <td>0</td>\n",
       "      <td>женат / замужем</td>\n",
       "      <td>0</td>\n",
       "      <td>M</td>\n",
       "      <td>компаньон</td>\n",
       "      <td>0</td>\n",
       "      <td>113943.491460</td>\n",
       "      <td>покупка недвижимости</td>\n",
       "    </tr>\n",
       "    <tr>\n",
       "      <th>11</th>\n",
       "      <td>0</td>\n",
       "      <td>-792.701887</td>\n",
       "      <td>40</td>\n",
       "      <td>среднее</td>\n",
       "      <td>1</td>\n",
       "      <td>женат / замужем</td>\n",
       "      <td>0</td>\n",
       "      <td>F</td>\n",
       "      <td>сотрудник</td>\n",
       "      <td>0</td>\n",
       "      <td>77069.234271</td>\n",
       "      <td>покупка коммерческой недвижимости</td>\n",
       "    </tr>\n",
       "    <tr>\n",
       "      <th>12</th>\n",
       "      <td>0</td>\n",
       "      <td>NaN</td>\n",
       "      <td>65</td>\n",
       "      <td>среднее</td>\n",
       "      <td>1</td>\n",
       "      <td>гражданский брак</td>\n",
       "      <td>1</td>\n",
       "      <td>M</td>\n",
       "      <td>пенсионер</td>\n",
       "      <td>0</td>\n",
       "      <td>NaN</td>\n",
       "      <td>сыграть свадьбу</td>\n",
       "    </tr>\n",
       "    <tr>\n",
       "      <th>13</th>\n",
       "      <td>0</td>\n",
       "      <td>-1846.641941</td>\n",
       "      <td>54</td>\n",
       "      <td>неоконченное высшее</td>\n",
       "      <td>2</td>\n",
       "      <td>женат / замужем</td>\n",
       "      <td>0</td>\n",
       "      <td>F</td>\n",
       "      <td>сотрудник</td>\n",
       "      <td>0</td>\n",
       "      <td>130458.228857</td>\n",
       "      <td>приобретение автомобиля</td>\n",
       "    </tr>\n",
       "    <tr>\n",
       "      <th>14</th>\n",
       "      <td>0</td>\n",
       "      <td>-1844.956182</td>\n",
       "      <td>56</td>\n",
       "      <td>высшее</td>\n",
       "      <td>0</td>\n",
       "      <td>гражданский брак</td>\n",
       "      <td>1</td>\n",
       "      <td>F</td>\n",
       "      <td>компаньон</td>\n",
       "      <td>1</td>\n",
       "      <td>165127.911772</td>\n",
       "      <td>покупка жилой недвижимости</td>\n",
       "    </tr>\n",
       "    <tr>\n",
       "      <th>15</th>\n",
       "      <td>1</td>\n",
       "      <td>-972.364419</td>\n",
       "      <td>26</td>\n",
       "      <td>среднее</td>\n",
       "      <td>1</td>\n",
       "      <td>женат / замужем</td>\n",
       "      <td>0</td>\n",
       "      <td>F</td>\n",
       "      <td>сотрудник</td>\n",
       "      <td>0</td>\n",
       "      <td>116820.904450</td>\n",
       "      <td>строительство собственной недвижимости</td>\n",
       "    </tr>\n",
       "    <tr>\n",
       "      <th>16</th>\n",
       "      <td>0</td>\n",
       "      <td>-1719.934226</td>\n",
       "      <td>35</td>\n",
       "      <td>среднее</td>\n",
       "      <td>1</td>\n",
       "      <td>женат / замужем</td>\n",
       "      <td>0</td>\n",
       "      <td>F</td>\n",
       "      <td>сотрудник</td>\n",
       "      <td>0</td>\n",
       "      <td>289202.704229</td>\n",
       "      <td>недвижимость</td>\n",
       "    </tr>\n",
       "    <tr>\n",
       "      <th>17</th>\n",
       "      <td>0</td>\n",
       "      <td>-2369.999720</td>\n",
       "      <td>33</td>\n",
       "      <td>высшее</td>\n",
       "      <td>0</td>\n",
       "      <td>гражданский брак</td>\n",
       "      <td>1</td>\n",
       "      <td>M</td>\n",
       "      <td>сотрудник</td>\n",
       "      <td>0</td>\n",
       "      <td>90410.586745</td>\n",
       "      <td>строительство недвижимости</td>\n",
       "    </tr>\n",
       "    <tr>\n",
       "      <th>18</th>\n",
       "      <td>0</td>\n",
       "      <td>400281.136913</td>\n",
       "      <td>53</td>\n",
       "      <td>среднее</td>\n",
       "      <td>1</td>\n",
       "      <td>вдовец / вдова</td>\n",
       "      <td>2</td>\n",
       "      <td>F</td>\n",
       "      <td>пенсионер</td>\n",
       "      <td>0</td>\n",
       "      <td>56823.777243</td>\n",
       "      <td>на покупку подержанного автомобиля</td>\n",
       "    </tr>\n",
       "    <tr>\n",
       "      <th>19</th>\n",
       "      <td>0</td>\n",
       "      <td>-10038.818549</td>\n",
       "      <td>48</td>\n",
       "      <td>СРЕДНЕЕ</td>\n",
       "      <td>1</td>\n",
       "      <td>в разводе</td>\n",
       "      <td>3</td>\n",
       "      <td>F</td>\n",
       "      <td>сотрудник</td>\n",
       "      <td>0</td>\n",
       "      <td>242831.107982</td>\n",
       "      <td>на покупку своего автомобиля</td>\n",
       "    </tr>\n",
       "  </tbody>\n",
       "</table>\n",
       "</div>"
      ],
      "text/plain": [
       "    children  days_employed  dob_years            education  education_id  \\\n",
       "0          1   -8437.673028         42               высшее             0   \n",
       "1          1   -4024.803754         36              среднее             1   \n",
       "2          0   -5623.422610         33              Среднее             1   \n",
       "3          3   -4124.747207         32              среднее             1   \n",
       "4          0  340266.072047         53              среднее             1   \n",
       "5          0    -926.185831         27               высшее             0   \n",
       "6          0   -2879.202052         43               высшее             0   \n",
       "7          0    -152.779569         50              СРЕДНЕЕ             1   \n",
       "8          2   -6929.865299         35               ВЫСШЕЕ             0   \n",
       "9          0   -2188.756445         41              среднее             1   \n",
       "10         2   -4171.483647         36               высшее             0   \n",
       "11         0    -792.701887         40              среднее             1   \n",
       "12         0            NaN         65              среднее             1   \n",
       "13         0   -1846.641941         54  неоконченное высшее             2   \n",
       "14         0   -1844.956182         56               высшее             0   \n",
       "15         1    -972.364419         26              среднее             1   \n",
       "16         0   -1719.934226         35              среднее             1   \n",
       "17         0   -2369.999720         33               высшее             0   \n",
       "18         0  400281.136913         53              среднее             1   \n",
       "19         0  -10038.818549         48              СРЕДНЕЕ             1   \n",
       "\n",
       "       family_status  family_status_id gender income_type  debt  \\\n",
       "0    женат / замужем                 0      F   сотрудник     0   \n",
       "1    женат / замужем                 0      F   сотрудник     0   \n",
       "2    женат / замужем                 0      M   сотрудник     0   \n",
       "3    женат / замужем                 0      M   сотрудник     0   \n",
       "4   гражданский брак                 1      F   пенсионер     0   \n",
       "5   гражданский брак                 1      M   компаньон     0   \n",
       "6    женат / замужем                 0      F   компаньон     0   \n",
       "7    женат / замужем                 0      M   сотрудник     0   \n",
       "8   гражданский брак                 1      F   сотрудник     0   \n",
       "9    женат / замужем                 0      M   сотрудник     0   \n",
       "10   женат / замужем                 0      M   компаньон     0   \n",
       "11   женат / замужем                 0      F   сотрудник     0   \n",
       "12  гражданский брак                 1      M   пенсионер     0   \n",
       "13   женат / замужем                 0      F   сотрудник     0   \n",
       "14  гражданский брак                 1      F   компаньон     1   \n",
       "15   женат / замужем                 0      F   сотрудник     0   \n",
       "16   женат / замужем                 0      F   сотрудник     0   \n",
       "17  гражданский брак                 1      M   сотрудник     0   \n",
       "18    вдовец / вдова                 2      F   пенсионер     0   \n",
       "19         в разводе                 3      F   сотрудник     0   \n",
       "\n",
       "     total_income                                 purpose  \n",
       "0   253875.639453                           покупка жилья  \n",
       "1   112080.014102                 приобретение автомобиля  \n",
       "2   145885.952297                           покупка жилья  \n",
       "3   267628.550329              дополнительное образование  \n",
       "4   158616.077870                         сыграть свадьбу  \n",
       "5   255763.565419                           покупка жилья  \n",
       "6   240525.971920                       операции с жильем  \n",
       "7   135823.934197                             образование  \n",
       "8    95856.832424                   на проведение свадьбы  \n",
       "9   144425.938277                 покупка жилья для семьи  \n",
       "10  113943.491460                    покупка недвижимости  \n",
       "11   77069.234271       покупка коммерческой недвижимости  \n",
       "12            NaN                         сыграть свадьбу  \n",
       "13  130458.228857                 приобретение автомобиля  \n",
       "14  165127.911772              покупка жилой недвижимости  \n",
       "15  116820.904450  строительство собственной недвижимости  \n",
       "16  289202.704229                            недвижимость  \n",
       "17   90410.586745              строительство недвижимости  \n",
       "18   56823.777243      на покупку подержанного автомобиля  \n",
       "19  242831.107982            на покупку своего автомобиля  "
      ]
     },
     "execution_count": 2,
     "metadata": {},
     "output_type": "execute_result"
    }
   ],
   "source": [
    "data.head(20)"
   ]
  },
  {
   "cell_type": "markdown",
   "id": "20a3eb11",
   "metadata": {},
   "source": [
    "***Вывод:***\n",
    "<div style=\"border:solid green 1px; padding: 20px\">\n",
    "    \n",
    "***В таблице содержится 12 столбцов:***  \n",
    "**children** — количество детей в семье  \n",
    "**days_employed** — общий трудовой стаж в днях  \n",
    "**dob_years** — возраст клиента в годах  \n",
    "**education** — уровень образования клиента  \n",
    "**education_id** — идентификатор уровня образования  \n",
    "**family_status** — семейное положение  \n",
    "**family_status_id** — идентификатор семейного положения  \n",
    "**gender** — пол клиента  \n",
    "**income_type** — тип занятости  \n",
    "**debt** — имел ли задолженность по возврату кредитов  \n",
    "**total_income** — ежемесячный доход  \n",
    "**purpose** — цель получения кредита  \n",
    "\n",
    "\n",
    " В столбце days_employed (общий трудовой стаж в днях) содержатся отрицательные числа, что не соотвествует значению столбца.  \n",
    " В столбце education (уровень образования клиента) для полноценного анализа нужно обработать неявные дубликаты - перевести шрифт к одному регистру.  \n",
    " В столбцах days_employed и total_income есть пропуски, их нужно заполнить медианным значением.  \n",
    " \n",
    "</div>"
   ]
  },
  {
   "cell_type": "markdown",
   "id": "4ff08530",
   "metadata": {
    "deletable": false,
    "editable": false,
    "id": "1c12e233"
   },
   "source": [
    "**Задание 3. Выведите основную информацию о датафрейме с помощью метода `info()`.**"
   ]
  },
  {
   "cell_type": "markdown",
   "id": "fd94acb9",
   "metadata": {},
   "source": [
    "*Выведем основную информацию о датафрейме:*"
   ]
  },
  {
   "cell_type": "code",
   "execution_count": 3,
   "id": "5ee8dc88",
   "metadata": {
    "deletable": false,
    "id": "2b757bca",
    "outputId": "15376089-8dad-46c9-b520-c05248d43158"
   },
   "outputs": [
    {
     "name": "stdout",
     "output_type": "stream",
     "text": [
      "<class 'pandas.core.frame.DataFrame'>\n",
      "RangeIndex: 21525 entries, 0 to 21524\n",
      "Data columns (total 12 columns):\n",
      " #   Column            Non-Null Count  Dtype  \n",
      "---  ------            --------------  -----  \n",
      " 0   children          21525 non-null  int64  \n",
      " 1   days_employed     19351 non-null  float64\n",
      " 2   dob_years         21525 non-null  int64  \n",
      " 3   education         21525 non-null  object \n",
      " 4   education_id      21525 non-null  int64  \n",
      " 5   family_status     21525 non-null  object \n",
      " 6   family_status_id  21525 non-null  int64  \n",
      " 7   gender            21525 non-null  object \n",
      " 8   income_type       21525 non-null  object \n",
      " 9   debt              21525 non-null  int64  \n",
      " 10  total_income      19351 non-null  float64\n",
      " 11  purpose           21525 non-null  object \n",
      "dtypes: float64(2), int64(5), object(5)\n",
      "memory usage: 2.0+ MB\n"
     ]
    }
   ],
   "source": [
    "data.info()"
   ]
  },
  {
   "cell_type": "markdown",
   "id": "3e55403c",
   "metadata": {},
   "source": [
    "***Вывод:***\n",
    "<div style=\"border:solid green 1px; padding: 20px\">\n",
    "В столбцах days_employed и total_income содержатся пропущенные значения типа NaN.\n",
    "</div>"
   ]
  },
  {
   "cell_type": "markdown",
   "id": "b65429d5",
   "metadata": {
    "deletable": false,
    "editable": false,
    "id": "333ec665"
   },
   "source": [
    "## Предобработка данных"
   ]
  },
  {
   "cell_type": "markdown",
   "id": "50876307",
   "metadata": {
    "deletable": false,
    "editable": false,
    "id": "02d92d53"
   },
   "source": [
    "### Удаление пропусков"
   ]
  },
  {
   "cell_type": "markdown",
   "id": "ccc2b8da",
   "metadata": {
    "deletable": false,
    "editable": false,
    "id": "cd84967c"
   },
   "source": [
    "**Задание 4. Выведите количество пропущенных значений для каждого столбца. Используйте комбинацию двух методов.**"
   ]
  },
  {
   "cell_type": "markdown",
   "id": "32009b02",
   "metadata": {},
   "source": [
    "*Выводим количество пропущенных значений для каждого столбца*"
   ]
  },
  {
   "cell_type": "code",
   "execution_count": 4,
   "id": "fc278d8c",
   "metadata": {
    "deletable": false,
    "id": "7f9b2309",
    "outputId": "81f4d817-781c-465c-ed15-91ce4446810d"
   },
   "outputs": [
    {
     "data": {
      "text/plain": [
       "children               0\n",
       "days_employed       2174\n",
       "dob_years              0\n",
       "education              0\n",
       "education_id           0\n",
       "family_status          0\n",
       "family_status_id       0\n",
       "gender                 0\n",
       "income_type            0\n",
       "debt                   0\n",
       "total_income        2174\n",
       "purpose                0\n",
       "dtype: int64"
      ]
     },
     "execution_count": 4,
     "metadata": {},
     "output_type": "execute_result"
    }
   ],
   "source": [
    "data.isna().sum()"
   ]
  },
  {
   "cell_type": "markdown",
   "id": "82fe3c0b",
   "metadata": {},
   "source": [
    "**Вывод:**\n",
    "<div style=\"border:solid green 1px; padding: 20px\">\n",
    "В столбцах days_employed и total_income содержатся 2174 пропущенных значений. \n",
    "</div>"
   ]
  },
  {
   "cell_type": "markdown",
   "id": "0b7e62e2",
   "metadata": {
    "deletable": false,
    "editable": false,
    "id": "db86e27b"
   },
   "source": [
    "**Задание 5. В двух столбцах есть пропущенные значения. Один из них — `days_employed`. Пропуски в этом столбце вы обработаете на следующем этапе. Другой столбец с пропущенными значениями — `total_income` — хранит данные о доходах. На сумму дохода сильнее всего влияет тип занятости, поэтому заполнить пропуски в этом столбце нужно медианным значением по каждому типу из столбца `income_type`. Например, у человека с типом занятости `сотрудник` пропуск в столбце `total_income` должен быть заполнен медианным доходом среди всех записей с тем же типом.**"
   ]
  },
  {
   "cell_type": "markdown",
   "id": "d984ad6a",
   "metadata": {},
   "source": [
    "*Заполняем пропуски в столбце total_income медианным значением*"
   ]
  },
  {
   "cell_type": "code",
   "execution_count": 5,
   "id": "ad71e5fd",
   "metadata": {
    "deletable": false,
    "id": "42006a93"
   },
   "outputs": [],
   "source": [
    "for t in data['income_type'].unique():\n",
    "    data.loc[(data['income_type'] == t) & (data['total_income'].isna()), 'total_income'] = \\\n",
    "    data.loc[(data['income_type'] == t), 'total_income'].median()"
   ]
  },
  {
   "cell_type": "markdown",
   "id": "03e78d0a",
   "metadata": {
    "deletable": false,
    "editable": false,
    "id": "89da5ece"
   },
   "source": [
    "### Обработка аномальных значений"
   ]
  },
  {
   "cell_type": "markdown",
   "id": "d67e9aa7",
   "metadata": {
    "deletable": false,
    "editable": false,
    "id": "57964554"
   },
   "source": [
    "**Задание 6. В данных могут встречаться артефакты (аномалии) — значения, которые не отражают действительность и появились по какой-то ошибке. таким артефактом будет отрицательное количество дней трудового стажа в столбце `days_employed`. Для реальных данных это нормально. Обработайте значения в этом столбце: замените все отрицательные значения положительными с помощью метода `abs()`.**"
   ]
  },
  {
   "cell_type": "markdown",
   "id": "0c1b3499",
   "metadata": {},
   "source": [
    "*Обработаем аномалии в столбце days_employed (общий трудовой стаж в днях) и переведем отрицательные значения в положительные*"
   ]
  },
  {
   "cell_type": "code",
   "execution_count": 6,
   "id": "1078961a",
   "metadata": {
    "deletable": false,
    "id": "f6f055bf"
   },
   "outputs": [],
   "source": [
    "data['days_employed'] = data['days_employed'].abs()"
   ]
  },
  {
   "cell_type": "markdown",
   "id": "2b20d123",
   "metadata": {
    "deletable": false,
    "editable": false,
    "id": "6107dd2f"
   },
   "source": [
    "**Задание 7. Для каждого типа занятости выведите медианное значение трудового стажа `days_employed` в днях.**"
   ]
  },
  {
   "cell_type": "markdown",
   "id": "117c697b",
   "metadata": {},
   "source": [
    "*Выведем медианное значение для трудового стажа days_employed*"
   ]
  },
  {
   "cell_type": "code",
   "execution_count": 7,
   "id": "8c248697",
   "metadata": {
    "deletable": false,
    "id": "85a5faf6",
    "outputId": "801ef80e-522b-4668-f34e-565af7432bcf"
   },
   "outputs": [
    {
     "data": {
      "text/plain": [
       "income_type\n",
       "безработный        366413.652744\n",
       "в декрете            3296.759962\n",
       "госслужащий          2689.368353\n",
       "компаньон            1547.382223\n",
       "пенсионер          365213.306266\n",
       "предприниматель       520.848083\n",
       "сотрудник            1574.202821\n",
       "студент               578.751554\n",
       "Name: days_employed, dtype: float64"
      ]
     },
     "execution_count": 7,
     "metadata": {},
     "output_type": "execute_result"
    }
   ],
   "source": [
    "data.groupby('income_type')['days_employed'].agg('median')"
   ]
  },
  {
   "cell_type": "markdown",
   "id": "f207634f",
   "metadata": {
    "deletable": false,
    "editable": false,
    "id": "38d1a030"
   },
   "source": [
    "У двух типов (безработные и пенсионеры) получатся аномально большие значения. Исправить такие значения сложно, поэтому оставьте их как есть. Тем более этот столбец не понадобится вам для исследования."
   ]
  },
  {
   "cell_type": "markdown",
   "id": "f6edca83",
   "metadata": {
    "deletable": false,
    "editable": false,
    "id": "d8a9f147"
   },
   "source": [
    "**Задание 8. Выведите перечень уникальных значений столбца `children`.**"
   ]
  },
  {
   "cell_type": "markdown",
   "id": "7adb2aed",
   "metadata": {},
   "source": [
    "*Выведем уникальные значения столбца children(дети)*"
   ]
  },
  {
   "cell_type": "code",
   "execution_count": 8,
   "id": "524420ab",
   "metadata": {
    "deletable": false,
    "id": "ef5056eb",
    "outputId": "6975b15c-7f95-4697-d16d-a0c79b657b03"
   },
   "outputs": [
    {
     "data": {
      "text/plain": [
       "array([ 1,  0,  3,  2, -1,  4, 20,  5], dtype=int64)"
      ]
     },
     "execution_count": 8,
     "metadata": {},
     "output_type": "execute_result"
    }
   ],
   "source": [
    "data['children'].unique()"
   ]
  },
  {
   "cell_type": "markdown",
   "id": "924b2fc0",
   "metadata": {
    "deletable": false,
    "editable": false,
    "id": "40b9ebf2"
   },
   "source": [
    "**Задание 9. В столбце `children` есть два аномальных значения. Удалите строки, в которых встречаются такие аномальные значения из датафрейма `data`.**"
   ]
  },
  {
   "cell_type": "markdown",
   "id": "4197653c",
   "metadata": {},
   "source": [
    "*Удаляем строки с аномальными значениями в столбце children*"
   ]
  },
  {
   "cell_type": "code",
   "execution_count": 9,
   "id": "aebe65f4",
   "metadata": {
    "deletable": false,
    "id": "3ff9801d"
   },
   "outputs": [],
   "source": [
    "data = data[(data['children'] != -1) & (data['children'] != 20)]"
   ]
  },
  {
   "cell_type": "markdown",
   "id": "9aef0887",
   "metadata": {
    "deletable": false,
    "editable": false,
    "id": "bbc4d0ce"
   },
   "source": [
    "**Задание 10. Ещё раз выведите перечень уникальных значений столбца `children`, чтобы убедиться, что артефакты удалены.**"
   ]
  },
  {
   "cell_type": "code",
   "execution_count": 10,
   "id": "26558ec5",
   "metadata": {
    "deletable": false,
    "id": "ad4fa8b7",
    "outputId": "b2097101-d49d-44d9-901b-32a65c9463d1"
   },
   "outputs": [
    {
     "data": {
      "text/plain": [
       "array([1, 0, 3, 2, 4, 5], dtype=int64)"
      ]
     },
     "execution_count": 10,
     "metadata": {},
     "output_type": "execute_result"
    }
   ],
   "source": [
    "data['children'].unique()"
   ]
  },
  {
   "cell_type": "markdown",
   "id": "d5419f8f",
   "metadata": {
    "deletable": false,
    "editable": false,
    "id": "75440b63"
   },
   "source": [
    "### Удаление пропусков (продолжение)"
   ]
  },
  {
   "cell_type": "markdown",
   "id": "2dc262b4",
   "metadata": {
    "deletable": false,
    "editable": false,
    "id": "f4ea573f"
   },
   "source": [
    "**Задание 11. Заполните пропуски в столбце `days_employed` медианными значениями по каждого типа занятости `income_type`.**"
   ]
  },
  {
   "cell_type": "markdown",
   "id": "e4b5ccdb",
   "metadata": {},
   "source": [
    "*Заполняем пропуски в столбце days_employed медианным значением для каждого типа занятости*"
   ]
  },
  {
   "cell_type": "code",
   "execution_count": 11,
   "id": "60c3dee5",
   "metadata": {
    "deletable": false,
    "id": "af6b1a7e"
   },
   "outputs": [],
   "source": [
    "for t in data['income_type'].unique():\n",
    "    data.loc[(data['income_type'] == t) & (data['days_employed'].isna()), 'days_employed'] = \\\n",
    "    data.loc[(data['income_type'] == t), 'days_employed'].median()"
   ]
  },
  {
   "cell_type": "markdown",
   "id": "564e59c2",
   "metadata": {
    "deletable": false,
    "editable": false,
    "id": "2753f40d"
   },
   "source": [
    "**Задание 12. Убедитесь, что все пропуски заполнены. Проверьте себя и ещё раз выведите количество пропущенных значений для каждого столбца с помощью двух методов.**"
   ]
  },
  {
   "cell_type": "markdown",
   "id": "63058445",
   "metadata": {},
   "source": [
    "*Проверяем наличие пропусков*"
   ]
  },
  {
   "cell_type": "code",
   "execution_count": 12,
   "id": "b7c0b1e4",
   "metadata": {
    "deletable": false,
    "id": "55f78bc2",
    "outputId": "8da1e4e1-358e-4e87-98c9-f261bce0a7b2"
   },
   "outputs": [
    {
     "data": {
      "text/plain": [
       "children            0\n",
       "days_employed       0\n",
       "dob_years           0\n",
       "education           0\n",
       "education_id        0\n",
       "family_status       0\n",
       "family_status_id    0\n",
       "gender              0\n",
       "income_type         0\n",
       "debt                0\n",
       "total_income        0\n",
       "purpose             0\n",
       "dtype: int64"
      ]
     },
     "execution_count": 12,
     "metadata": {},
     "output_type": "execute_result"
    }
   ],
   "source": [
    "data.isna().sum()"
   ]
  },
  {
   "cell_type": "markdown",
   "id": "e18274df",
   "metadata": {},
   "source": [
    "**Вывод:**\n",
    "<div style=\"border:solid green 1px; padding: 20px\">\n",
    "Возможные причины пропусков в данных связаны с тем, что, возможно, клиент не помнит свой трудовой стаж или он безработный.    \n",
    "    \n",
    "Все пропуски в датафрейме заполнены, можно приступать к дальнейшей обработке данных (поиск дубликатов, изменение вещественных чисел на цельночисленные).\n",
    "</div>"
   ]
  },
  {
   "cell_type": "markdown",
   "id": "b2adedf4",
   "metadata": {
    "deletable": false,
    "editable": false,
    "id": "ddc81e43"
   },
   "source": [
    "### Изменение типов данных"
   ]
  },
  {
   "cell_type": "markdown",
   "id": "6241b36d",
   "metadata": {
    "deletable": false,
    "editable": false,
    "id": "42d19d24"
   },
   "source": [
    "**Задание 13. Замените вещественный тип данных в столбце `total_income` на целочисленный с помощью метода `astype()`.**"
   ]
  },
  {
   "cell_type": "markdown",
   "id": "2a2928d3",
   "metadata": {},
   "source": [
    "*С помощью метода astype() изменим вещественные числа на целые в столбце total_income — ежемесячный доход*"
   ]
  },
  {
   "cell_type": "code",
   "execution_count": 13,
   "id": "58261fad",
   "metadata": {
    "deletable": false,
    "id": "920b65ad"
   },
   "outputs": [],
   "source": [
    "data['total_income'] = data['total_income'].astype(int)"
   ]
  },
  {
   "cell_type": "markdown",
   "id": "06efea6a",
   "metadata": {
    "deletable": false,
    "editable": false,
    "id": "80c420ba"
   },
   "source": [
    "### Обработка дубликатов"
   ]
  },
  {
   "cell_type": "markdown",
   "id": "d2efc87c",
   "metadata": {
    "deletable": false,
    "editable": false
   },
   "source": [
    "**Задание 14. Обработайте неявные дубликаты в столбце `education`. В этом столбце есть одни и те же значения, но записанные по-разному: с использованием заглавных и строчных букв. Приведите их к нижнему регистру. Проверьте остальные столбцы.**"
   ]
  },
  {
   "cell_type": "markdown",
   "id": "d40aaa22",
   "metadata": {},
   "source": [
    "*Обработаем неявные дубликаты. Приведем к нижнему регистру все значения в столбце education (уровень образования клиента)*"
   ]
  },
  {
   "cell_type": "code",
   "execution_count": 14,
   "id": "3d5410b0",
   "metadata": {
    "deletable": false
   },
   "outputs": [],
   "source": [
    "data['education'] = data['education'].str.lower()"
   ]
  },
  {
   "cell_type": "markdown",
   "id": "a969daa6",
   "metadata": {
    "deletable": false,
    "editable": false,
    "id": "dc587695"
   },
   "source": [
    "**Задание 15. Выведите на экран количество строк-дубликатов в данных. Если такие строки присутствуют, удалите их.**"
   ]
  },
  {
   "cell_type": "markdown",
   "id": "9ef2ccf8",
   "metadata": {},
   "source": [
    "*Выводим количество строк-дубликатов и удаляем их.*"
   ]
  },
  {
   "cell_type": "code",
   "execution_count": 15,
   "id": "cd8bf30d",
   "metadata": {
    "deletable": false,
    "id": "3ee445e4",
    "outputId": "9684deba-1934-42d1-99e1-cda61740f822"
   },
   "outputs": [
    {
     "data": {
      "text/plain": [
       "71"
      ]
     },
     "execution_count": 15,
     "metadata": {},
     "output_type": "execute_result"
    }
   ],
   "source": [
    "data.duplicated().sum()"
   ]
  },
  {
   "cell_type": "code",
   "execution_count": 16,
   "id": "f6176943",
   "metadata": {
    "deletable": false,
    "id": "8575fe05"
   },
   "outputs": [],
   "source": [
    "data = data.drop_duplicates()"
   ]
  },
  {
   "cell_type": "markdown",
   "id": "b269fb8d",
   "metadata": {},
   "source": [
    "**Вывод:**\n",
    "<div style=\"border:solid green 2px; padding: 20px\">\n",
    "Все данные из датафрейма обработаны. Приступаем к категоризации данных.\n",
    "</div>"
   ]
  },
  {
   "cell_type": "markdown",
   "id": "78f31baa",
   "metadata": {
    "deletable": false,
    "editable": false,
    "id": "9904cf55"
   },
   "source": [
    "### Категоризация данных"
   ]
  },
  {
   "cell_type": "markdown",
   "id": "f37d6dc3",
   "metadata": {
    "deletable": false,
    "editable": false,
    "id": "72fcc8a2"
   },
   "source": [
    "**Задание 16. На основании диапазонов, указанных ниже, создайте в датафрейме `data` столбец `total_income_category` с категориями:**\n",
    "\n",
    "- 0–30000 — `'E'`;\n",
    "- 30001–50000 — `'D'`;\n",
    "- 50001–200000 — `'C'`;\n",
    "- 200001–1000000 — `'B'`;\n",
    "- 1000001 и выше — `'A'`.\n",
    "\n",
    "\n",
    "**Например, кредитополучателю с доходом 25000 нужно назначить категорию `'E'`, а клиенту, получающему 235000, — `'B'`. Используйте собственную функцию с именем `categorize_income()` и метод `apply()`.**"
   ]
  },
  {
   "cell_type": "markdown",
   "id": "fdc611e6",
   "metadata": {},
   "source": [
    "*В датафрейм добавим новый столбец total_income_category и распределим на категории кредитополучателей с разным уровнем дохода*"
   ]
  },
  {
   "cell_type": "code",
   "execution_count": 17,
   "id": "bc0d92af",
   "metadata": {
    "deletable": false,
    "id": "e1771346"
   },
   "outputs": [],
   "source": [
    "def categorize_income(income):\n",
    "    try:\n",
    "        if 0 <= income <= 30000:\n",
    "            return 'E'\n",
    "        elif 30001 <= income <= 50000:\n",
    "            return 'D'\n",
    "        elif 50001 <= income <= 200000:\n",
    "            return 'C'\n",
    "        elif 200001 <= income <= 1000000:\n",
    "            return 'B'\n",
    "        elif income >= 1000001:\n",
    "            return 'A'\n",
    "    except:\n",
    "        pass"
   ]
  },
  {
   "cell_type": "code",
   "execution_count": 18,
   "id": "35f6d1d4",
   "metadata": {
    "deletable": false,
    "id": "d5f3586d"
   },
   "outputs": [],
   "source": [
    "data['total_income_category'] = data['total_income'].apply(categorize_income)"
   ]
  },
  {
   "cell_type": "markdown",
   "id": "6b8a324a",
   "metadata": {
    "deletable": false,
    "editable": false,
    "id": "dde49b5c"
   },
   "source": [
    "**Задание 17. Выведите на экран перечень уникальных целей взятия кредита из столбца `purpose`.**"
   ]
  },
  {
   "cell_type": "markdown",
   "id": "4d5a0dcb",
   "metadata": {},
   "source": [
    "*Выведем уникальные цели для взятия кредита из столбца purpose (цель получения кредита)*"
   ]
  },
  {
   "cell_type": "code",
   "execution_count": 19,
   "id": "f632ea56",
   "metadata": {
    "deletable": false,
    "id": "f67ce9b3",
    "outputId": "673c12d9-7d7e-4ae0-9812-c622c89dd244"
   },
   "outputs": [
    {
     "data": {
      "text/plain": [
       "array(['покупка жилья', 'приобретение автомобиля',\n",
       "       'дополнительное образование', 'сыграть свадьбу',\n",
       "       'операции с жильем', 'образование', 'на проведение свадьбы',\n",
       "       'покупка жилья для семьи', 'покупка недвижимости',\n",
       "       'покупка коммерческой недвижимости', 'покупка жилой недвижимости',\n",
       "       'строительство собственной недвижимости', 'недвижимость',\n",
       "       'строительство недвижимости', 'на покупку подержанного автомобиля',\n",
       "       'на покупку своего автомобиля',\n",
       "       'операции с коммерческой недвижимостью',\n",
       "       'строительство жилой недвижимости', 'жилье',\n",
       "       'операции со своей недвижимостью', 'автомобили',\n",
       "       'заняться образованием', 'сделка с подержанным автомобилем',\n",
       "       'получение образования', 'автомобиль', 'свадьба',\n",
       "       'получение дополнительного образования', 'покупка своего жилья',\n",
       "       'операции с недвижимостью', 'получение высшего образования',\n",
       "       'свой автомобиль', 'сделка с автомобилем',\n",
       "       'профильное образование', 'высшее образование',\n",
       "       'покупка жилья для сдачи', 'на покупку автомобиля', 'ремонт жилью',\n",
       "       'заняться высшим образованием'], dtype=object)"
      ]
     },
     "execution_count": 19,
     "metadata": {},
     "output_type": "execute_result"
    }
   ],
   "source": [
    "data['purpose'].unique()"
   ]
  },
  {
   "cell_type": "markdown",
   "id": "1355a9df",
   "metadata": {
    "deletable": false,
    "editable": false,
    "id": "85d0aef0"
   },
   "source": [
    "**Задание 18. Создайте функцию, которая на основании данных из столбца `purpose` сформирует новый столбец `purpose_category`, в который войдут следующие категории:**\n",
    "\n",
    "- `'операции с автомобилем'`,\n",
    "- `'операции с недвижимостью'`,\n",
    "- `'проведение свадьбы'`,\n",
    "- `'получение образования'`.\n",
    "\n",
    "**Например, если в столбце `purpose` находится подстрока `'на покупку автомобиля'`, то в столбце `purpose_category` должна появиться строка `'операции с автомобилем'`.**\n",
    "\n",
    "**Используйте собственную функцию с именем `categorize_purpose()` и метод `apply()`. Изучите данные в столбце `purpose` и определите, какие подстроки помогут вам правильно определить категорию.**"
   ]
  },
  {
   "cell_type": "markdown",
   "id": "b3d7f718",
   "metadata": {},
   "source": [
    "*Создадим новый столбец purpose_category и с помощью функции добавим новые категории, которые объединят цели получения кредита.*"
   ]
  },
  {
   "cell_type": "code",
   "execution_count": 20,
   "id": "de5ccdef",
   "metadata": {
    "deletable": false,
    "id": "e149fab4"
   },
   "outputs": [],
   "source": [
    "def categorize_purpose(row):\n",
    "    try:\n",
    "        if 'автом' in row:\n",
    "            return 'операции с автомобилем'\n",
    "        elif 'жил' in row or 'недвиж' in row:\n",
    "            return 'операции с недвижимостью'\n",
    "        elif 'свад' in row:\n",
    "            return 'проведение свадьбы'\n",
    "        elif 'образов' in row:\n",
    "            return 'получение образования'\n",
    "    except:\n",
    "        return 'нет категории'"
   ]
  },
  {
   "cell_type": "code",
   "execution_count": 21,
   "id": "f96fd330",
   "metadata": {
    "deletable": false,
    "id": "bf36e69b"
   },
   "outputs": [],
   "source": [
    "data['purpose_category'] = data['purpose'].apply(categorize_purpose)"
   ]
  },
  {
   "cell_type": "code",
   "execution_count": 22,
   "id": "3a82e927",
   "metadata": {},
   "outputs": [
    {
     "data": {
      "text/html": [
       "<div>\n",
       "<style scoped>\n",
       "    .dataframe tbody tr th:only-of-type {\n",
       "        vertical-align: middle;\n",
       "    }\n",
       "\n",
       "    .dataframe tbody tr th {\n",
       "        vertical-align: top;\n",
       "    }\n",
       "\n",
       "    .dataframe thead th {\n",
       "        text-align: right;\n",
       "    }\n",
       "</style>\n",
       "<table border=\"1\" class=\"dataframe\">\n",
       "  <thead>\n",
       "    <tr style=\"text-align: right;\">\n",
       "      <th></th>\n",
       "      <th>children</th>\n",
       "      <th>days_employed</th>\n",
       "      <th>dob_years</th>\n",
       "      <th>education</th>\n",
       "      <th>education_id</th>\n",
       "      <th>family_status</th>\n",
       "      <th>family_status_id</th>\n",
       "      <th>gender</th>\n",
       "      <th>income_type</th>\n",
       "      <th>debt</th>\n",
       "      <th>total_income</th>\n",
       "      <th>purpose</th>\n",
       "      <th>total_income_category</th>\n",
       "      <th>purpose_category</th>\n",
       "    </tr>\n",
       "  </thead>\n",
       "  <tbody>\n",
       "    <tr>\n",
       "      <th>0</th>\n",
       "      <td>1</td>\n",
       "      <td>8437.673028</td>\n",
       "      <td>42</td>\n",
       "      <td>высшее</td>\n",
       "      <td>0</td>\n",
       "      <td>женат / замужем</td>\n",
       "      <td>0</td>\n",
       "      <td>F</td>\n",
       "      <td>сотрудник</td>\n",
       "      <td>0</td>\n",
       "      <td>253875</td>\n",
       "      <td>покупка жилья</td>\n",
       "      <td>B</td>\n",
       "      <td>операции с недвижимостью</td>\n",
       "    </tr>\n",
       "    <tr>\n",
       "      <th>1</th>\n",
       "      <td>1</td>\n",
       "      <td>4024.803754</td>\n",
       "      <td>36</td>\n",
       "      <td>среднее</td>\n",
       "      <td>1</td>\n",
       "      <td>женат / замужем</td>\n",
       "      <td>0</td>\n",
       "      <td>F</td>\n",
       "      <td>сотрудник</td>\n",
       "      <td>0</td>\n",
       "      <td>112080</td>\n",
       "      <td>приобретение автомобиля</td>\n",
       "      <td>C</td>\n",
       "      <td>операции с автомобилем</td>\n",
       "    </tr>\n",
       "    <tr>\n",
       "      <th>2</th>\n",
       "      <td>0</td>\n",
       "      <td>5623.422610</td>\n",
       "      <td>33</td>\n",
       "      <td>среднее</td>\n",
       "      <td>1</td>\n",
       "      <td>женат / замужем</td>\n",
       "      <td>0</td>\n",
       "      <td>M</td>\n",
       "      <td>сотрудник</td>\n",
       "      <td>0</td>\n",
       "      <td>145885</td>\n",
       "      <td>покупка жилья</td>\n",
       "      <td>C</td>\n",
       "      <td>операции с недвижимостью</td>\n",
       "    </tr>\n",
       "    <tr>\n",
       "      <th>3</th>\n",
       "      <td>3</td>\n",
       "      <td>4124.747207</td>\n",
       "      <td>32</td>\n",
       "      <td>среднее</td>\n",
       "      <td>1</td>\n",
       "      <td>женат / замужем</td>\n",
       "      <td>0</td>\n",
       "      <td>M</td>\n",
       "      <td>сотрудник</td>\n",
       "      <td>0</td>\n",
       "      <td>267628</td>\n",
       "      <td>дополнительное образование</td>\n",
       "      <td>B</td>\n",
       "      <td>получение образования</td>\n",
       "    </tr>\n",
       "    <tr>\n",
       "      <th>4</th>\n",
       "      <td>0</td>\n",
       "      <td>340266.072047</td>\n",
       "      <td>53</td>\n",
       "      <td>среднее</td>\n",
       "      <td>1</td>\n",
       "      <td>гражданский брак</td>\n",
       "      <td>1</td>\n",
       "      <td>F</td>\n",
       "      <td>пенсионер</td>\n",
       "      <td>0</td>\n",
       "      <td>158616</td>\n",
       "      <td>сыграть свадьбу</td>\n",
       "      <td>C</td>\n",
       "      <td>проведение свадьбы</td>\n",
       "    </tr>\n",
       "    <tr>\n",
       "      <th>5</th>\n",
       "      <td>0</td>\n",
       "      <td>926.185831</td>\n",
       "      <td>27</td>\n",
       "      <td>высшее</td>\n",
       "      <td>0</td>\n",
       "      <td>гражданский брак</td>\n",
       "      <td>1</td>\n",
       "      <td>M</td>\n",
       "      <td>компаньон</td>\n",
       "      <td>0</td>\n",
       "      <td>255763</td>\n",
       "      <td>покупка жилья</td>\n",
       "      <td>B</td>\n",
       "      <td>операции с недвижимостью</td>\n",
       "    </tr>\n",
       "    <tr>\n",
       "      <th>6</th>\n",
       "      <td>0</td>\n",
       "      <td>2879.202052</td>\n",
       "      <td>43</td>\n",
       "      <td>высшее</td>\n",
       "      <td>0</td>\n",
       "      <td>женат / замужем</td>\n",
       "      <td>0</td>\n",
       "      <td>F</td>\n",
       "      <td>компаньон</td>\n",
       "      <td>0</td>\n",
       "      <td>240525</td>\n",
       "      <td>операции с жильем</td>\n",
       "      <td>B</td>\n",
       "      <td>операции с недвижимостью</td>\n",
       "    </tr>\n",
       "    <tr>\n",
       "      <th>7</th>\n",
       "      <td>0</td>\n",
       "      <td>152.779569</td>\n",
       "      <td>50</td>\n",
       "      <td>среднее</td>\n",
       "      <td>1</td>\n",
       "      <td>женат / замужем</td>\n",
       "      <td>0</td>\n",
       "      <td>M</td>\n",
       "      <td>сотрудник</td>\n",
       "      <td>0</td>\n",
       "      <td>135823</td>\n",
       "      <td>образование</td>\n",
       "      <td>C</td>\n",
       "      <td>получение образования</td>\n",
       "    </tr>\n",
       "    <tr>\n",
       "      <th>8</th>\n",
       "      <td>2</td>\n",
       "      <td>6929.865299</td>\n",
       "      <td>35</td>\n",
       "      <td>высшее</td>\n",
       "      <td>0</td>\n",
       "      <td>гражданский брак</td>\n",
       "      <td>1</td>\n",
       "      <td>F</td>\n",
       "      <td>сотрудник</td>\n",
       "      <td>0</td>\n",
       "      <td>95856</td>\n",
       "      <td>на проведение свадьбы</td>\n",
       "      <td>C</td>\n",
       "      <td>проведение свадьбы</td>\n",
       "    </tr>\n",
       "    <tr>\n",
       "      <th>9</th>\n",
       "      <td>0</td>\n",
       "      <td>2188.756445</td>\n",
       "      <td>41</td>\n",
       "      <td>среднее</td>\n",
       "      <td>1</td>\n",
       "      <td>женат / замужем</td>\n",
       "      <td>0</td>\n",
       "      <td>M</td>\n",
       "      <td>сотрудник</td>\n",
       "      <td>0</td>\n",
       "      <td>144425</td>\n",
       "      <td>покупка жилья для семьи</td>\n",
       "      <td>C</td>\n",
       "      <td>операции с недвижимостью</td>\n",
       "    </tr>\n",
       "  </tbody>\n",
       "</table>\n",
       "</div>"
      ],
      "text/plain": [
       "   children  days_employed  dob_years education  education_id  \\\n",
       "0         1    8437.673028         42    высшее             0   \n",
       "1         1    4024.803754         36   среднее             1   \n",
       "2         0    5623.422610         33   среднее             1   \n",
       "3         3    4124.747207         32   среднее             1   \n",
       "4         0  340266.072047         53   среднее             1   \n",
       "5         0     926.185831         27    высшее             0   \n",
       "6         0    2879.202052         43    высшее             0   \n",
       "7         0     152.779569         50   среднее             1   \n",
       "8         2    6929.865299         35    высшее             0   \n",
       "9         0    2188.756445         41   среднее             1   \n",
       "\n",
       "      family_status  family_status_id gender income_type  debt  total_income  \\\n",
       "0   женат / замужем                 0      F   сотрудник     0        253875   \n",
       "1   женат / замужем                 0      F   сотрудник     0        112080   \n",
       "2   женат / замужем                 0      M   сотрудник     0        145885   \n",
       "3   женат / замужем                 0      M   сотрудник     0        267628   \n",
       "4  гражданский брак                 1      F   пенсионер     0        158616   \n",
       "5  гражданский брак                 1      M   компаньон     0        255763   \n",
       "6   женат / замужем                 0      F   компаньон     0        240525   \n",
       "7   женат / замужем                 0      M   сотрудник     0        135823   \n",
       "8  гражданский брак                 1      F   сотрудник     0         95856   \n",
       "9   женат / замужем                 0      M   сотрудник     0        144425   \n",
       "\n",
       "                      purpose total_income_category          purpose_category  \n",
       "0               покупка жилья                     B  операции с недвижимостью  \n",
       "1     приобретение автомобиля                     C    операции с автомобилем  \n",
       "2               покупка жилья                     C  операции с недвижимостью  \n",
       "3  дополнительное образование                     B     получение образования  \n",
       "4             сыграть свадьбу                     C        проведение свадьбы  \n",
       "5               покупка жилья                     B  операции с недвижимостью  \n",
       "6           операции с жильем                     B  операции с недвижимостью  \n",
       "7                 образование                     C     получение образования  \n",
       "8       на проведение свадьбы                     C        проведение свадьбы  \n",
       "9     покупка жилья для семьи                     C  операции с недвижимостью  "
      ]
     },
     "execution_count": 22,
     "metadata": {},
     "output_type": "execute_result"
    }
   ],
   "source": [
    "data.head(10)"
   ]
  },
  {
   "cell_type": "markdown",
   "id": "80f5a084",
   "metadata": {
    "deletable": false,
    "editable": false,
    "id": "09b242bf"
   },
   "source": [
    "### Шаг 3. Исследуйте данные и ответьте на вопросы"
   ]
  },
  {
   "cell_type": "markdown",
   "id": "dceed94f",
   "metadata": {
    "deletable": false,
    "editable": false,
    "id": "c5d66278"
   },
   "source": [
    "#### 3.1 Есть ли зависимость между количеством детей и возвратом кредита в срок?"
   ]
  },
  {
   "cell_type": "markdown",
   "id": "0fd93a45",
   "metadata": {},
   "source": [
    "**Сгруппируем значения столбцов children (дети) и столбец debt (задолженность по кредиту)**"
   ]
  },
  {
   "cell_type": "code",
   "execution_count": 23,
   "id": "40b7bcce",
   "metadata": {
    "deletable": false,
    "id": "2cacfc4a"
   },
   "outputs": [],
   "source": [
    "children_grouped = data.groupby('children').agg({'debt': ['count', 'sum']})"
   ]
  },
  {
   "cell_type": "markdown",
   "id": "9ccdb947",
   "metadata": {},
   "source": [
    "*Выведем результат на экран и проверим работу группировки столбцов*"
   ]
  },
  {
   "cell_type": "code",
   "execution_count": 24,
   "id": "8f417981",
   "metadata": {},
   "outputs": [
    {
     "data": {
      "text/html": [
       "<div>\n",
       "<style scoped>\n",
       "    .dataframe tbody tr th:only-of-type {\n",
       "        vertical-align: middle;\n",
       "    }\n",
       "\n",
       "    .dataframe tbody tr th {\n",
       "        vertical-align: top;\n",
       "    }\n",
       "\n",
       "    .dataframe thead tr th {\n",
       "        text-align: left;\n",
       "    }\n",
       "\n",
       "    .dataframe thead tr:last-of-type th {\n",
       "        text-align: right;\n",
       "    }\n",
       "</style>\n",
       "<table border=\"1\" class=\"dataframe\">\n",
       "  <thead>\n",
       "    <tr>\n",
       "      <th></th>\n",
       "      <th colspan=\"2\" halign=\"left\">debt</th>\n",
       "    </tr>\n",
       "    <tr>\n",
       "      <th></th>\n",
       "      <th>count</th>\n",
       "      <th>sum</th>\n",
       "    </tr>\n",
       "    <tr>\n",
       "      <th>children</th>\n",
       "      <th></th>\n",
       "      <th></th>\n",
       "    </tr>\n",
       "  </thead>\n",
       "  <tbody>\n",
       "    <tr>\n",
       "      <th>0</th>\n",
       "      <td>14091</td>\n",
       "      <td>1063</td>\n",
       "    </tr>\n",
       "    <tr>\n",
       "      <th>1</th>\n",
       "      <td>4808</td>\n",
       "      <td>444</td>\n",
       "    </tr>\n",
       "    <tr>\n",
       "      <th>2</th>\n",
       "      <td>2052</td>\n",
       "      <td>194</td>\n",
       "    </tr>\n",
       "    <tr>\n",
       "      <th>3</th>\n",
       "      <td>330</td>\n",
       "      <td>27</td>\n",
       "    </tr>\n",
       "    <tr>\n",
       "      <th>4</th>\n",
       "      <td>41</td>\n",
       "      <td>4</td>\n",
       "    </tr>\n",
       "    <tr>\n",
       "      <th>5</th>\n",
       "      <td>9</td>\n",
       "      <td>0</td>\n",
       "    </tr>\n",
       "  </tbody>\n",
       "</table>\n",
       "</div>"
      ],
      "text/plain": [
       "           debt      \n",
       "          count   sum\n",
       "children             \n",
       "0         14091  1063\n",
       "1          4808   444\n",
       "2          2052   194\n",
       "3           330    27\n",
       "4            41     4\n",
       "5             9     0"
      ]
     },
     "execution_count": 24,
     "metadata": {},
     "output_type": "execute_result"
    }
   ],
   "source": [
    "children_grouped"
   ]
  },
  {
   "cell_type": "markdown",
   "id": "ba5003b4",
   "metadata": {},
   "source": [
    "*Посчитали долю просрочек по кредиту*"
   ]
  },
  {
   "cell_type": "code",
   "execution_count": 25,
   "id": "b7fb9385",
   "metadata": {},
   "outputs": [],
   "source": [
    "children_grouped['childen_result'] =  children_grouped['debt']['sum'] / children_grouped['debt']['count']"
   ]
  },
  {
   "cell_type": "markdown",
   "id": "31c07b4d",
   "metadata": {},
   "source": [
    "*Отсортируем выборку по столбцу childen_result в порядке убывания и проанализируем результат*"
   ]
  },
  {
   "cell_type": "code",
   "execution_count": 26,
   "id": "0d543a49",
   "metadata": {},
   "outputs": [
    {
     "data": {
      "text/html": [
       "<div>\n",
       "<style scoped>\n",
       "    .dataframe tbody tr th:only-of-type {\n",
       "        vertical-align: middle;\n",
       "    }\n",
       "\n",
       "    .dataframe tbody tr th {\n",
       "        vertical-align: top;\n",
       "    }\n",
       "\n",
       "    .dataframe thead tr th {\n",
       "        text-align: left;\n",
       "    }\n",
       "\n",
       "    .dataframe thead tr:last-of-type th {\n",
       "        text-align: right;\n",
       "    }\n",
       "</style>\n",
       "<table border=\"1\" class=\"dataframe\">\n",
       "  <thead>\n",
       "    <tr>\n",
       "      <th></th>\n",
       "      <th colspan=\"2\" halign=\"left\">debt</th>\n",
       "      <th>childen_result</th>\n",
       "    </tr>\n",
       "    <tr>\n",
       "      <th></th>\n",
       "      <th>count</th>\n",
       "      <th>sum</th>\n",
       "      <th></th>\n",
       "    </tr>\n",
       "    <tr>\n",
       "      <th>children</th>\n",
       "      <th></th>\n",
       "      <th></th>\n",
       "      <th></th>\n",
       "    </tr>\n",
       "  </thead>\n",
       "  <tbody>\n",
       "    <tr>\n",
       "      <th>4</th>\n",
       "      <td>41</td>\n",
       "      <td>4</td>\n",
       "      <td>0.097561</td>\n",
       "    </tr>\n",
       "    <tr>\n",
       "      <th>2</th>\n",
       "      <td>2052</td>\n",
       "      <td>194</td>\n",
       "      <td>0.094542</td>\n",
       "    </tr>\n",
       "    <tr>\n",
       "      <th>1</th>\n",
       "      <td>4808</td>\n",
       "      <td>444</td>\n",
       "      <td>0.092346</td>\n",
       "    </tr>\n",
       "    <tr>\n",
       "      <th>3</th>\n",
       "      <td>330</td>\n",
       "      <td>27</td>\n",
       "      <td>0.081818</td>\n",
       "    </tr>\n",
       "    <tr>\n",
       "      <th>0</th>\n",
       "      <td>14091</td>\n",
       "      <td>1063</td>\n",
       "      <td>0.075438</td>\n",
       "    </tr>\n",
       "    <tr>\n",
       "      <th>5</th>\n",
       "      <td>9</td>\n",
       "      <td>0</td>\n",
       "      <td>0.000000</td>\n",
       "    </tr>\n",
       "  </tbody>\n",
       "</table>\n",
       "</div>"
      ],
      "text/plain": [
       "           debt       childen_result\n",
       "          count   sum               \n",
       "children                            \n",
       "4            41     4       0.097561\n",
       "2          2052   194       0.094542\n",
       "1          4808   444       0.092346\n",
       "3           330    27       0.081818\n",
       "0         14091  1063       0.075438\n",
       "5             9     0       0.000000"
      ]
     },
     "execution_count": 26,
     "metadata": {},
     "output_type": "execute_result"
    }
   ],
   "source": [
    "children_grouped.sort_values(by='childen_result', ascending=False)"
   ]
  },
  {
   "cell_type": "markdown",
   "id": "23b9551e",
   "metadata": {
    "deletable": false,
    "id": "3a6b99ec"
   },
   "source": [
    "**Вывод:** \n",
    "<div style=\"border:solid SteelBlue 3px; padding: 20px\">\n",
    "Мы видим увеличение количества просроченных задолженностей по кредиту с увеличением количества детей. \n",
    "Бездетные реже уходят в просрочку, чем клиенты с детьми.\n",
    "Клиенты с 4 детьми имеют самый высокий показатель по просроченным платежам за кредит.\n",
    "Клиенты с 5 детьми вообще не имеют просроченной задолженности.\n",
    "</div>"
   ]
  },
  {
   "cell_type": "code",
   "execution_count": 27,
   "id": "561422fc",
   "metadata": {},
   "outputs": [
    {
     "data": {
      "text/html": [
       "<style type=\"text/css\">\n",
       "</style>\n",
       "<table id=\"T_8c9c6\">\n",
       "  <thead>\n",
       "    <tr>\n",
       "      <th class=\"blank level0\" >&nbsp;</th>\n",
       "      <th id=\"T_8c9c6_level0_col0\" class=\"col_heading level0 col0\" >число_клиентов</th>\n",
       "      <th id=\"T_8c9c6_level0_col1\" class=\"col_heading level0 col1\" >число_должников</th>\n",
       "      <th id=\"T_8c9c6_level0_col2\" class=\"col_heading level0 col2\" >доля_должников</th>\n",
       "    </tr>\n",
       "    <tr>\n",
       "      <th class=\"index_name level0\" >children</th>\n",
       "      <th class=\"blank col0\" >&nbsp;</th>\n",
       "      <th class=\"blank col1\" >&nbsp;</th>\n",
       "      <th class=\"blank col2\" >&nbsp;</th>\n",
       "    </tr>\n",
       "  </thead>\n",
       "  <tbody>\n",
       "    <tr>\n",
       "      <th id=\"T_8c9c6_level0_row0\" class=\"row_heading level0 row0\" >0</th>\n",
       "      <td id=\"T_8c9c6_row0_col0\" class=\"data row0 col0\" >14091</td>\n",
       "      <td id=\"T_8c9c6_row0_col1\" class=\"data row0 col1\" >1063</td>\n",
       "      <td id=\"T_8c9c6_row0_col2\" class=\"data row0 col2\" >7.54%</td>\n",
       "    </tr>\n",
       "    <tr>\n",
       "      <th id=\"T_8c9c6_level0_row1\" class=\"row_heading level0 row1\" >1</th>\n",
       "      <td id=\"T_8c9c6_row1_col0\" class=\"data row1 col0\" >4808</td>\n",
       "      <td id=\"T_8c9c6_row1_col1\" class=\"data row1 col1\" >444</td>\n",
       "      <td id=\"T_8c9c6_row1_col2\" class=\"data row1 col2\" >9.23%</td>\n",
       "    </tr>\n",
       "    <tr>\n",
       "      <th id=\"T_8c9c6_level0_row2\" class=\"row_heading level0 row2\" >2</th>\n",
       "      <td id=\"T_8c9c6_row2_col0\" class=\"data row2 col0\" >2052</td>\n",
       "      <td id=\"T_8c9c6_row2_col1\" class=\"data row2 col1\" >194</td>\n",
       "      <td id=\"T_8c9c6_row2_col2\" class=\"data row2 col2\" >9.45%</td>\n",
       "    </tr>\n",
       "    <tr>\n",
       "      <th id=\"T_8c9c6_level0_row3\" class=\"row_heading level0 row3\" >3</th>\n",
       "      <td id=\"T_8c9c6_row3_col0\" class=\"data row3 col0\" >330</td>\n",
       "      <td id=\"T_8c9c6_row3_col1\" class=\"data row3 col1\" >27</td>\n",
       "      <td id=\"T_8c9c6_row3_col2\" class=\"data row3 col2\" >8.18%</td>\n",
       "    </tr>\n",
       "    <tr>\n",
       "      <th id=\"T_8c9c6_level0_row4\" class=\"row_heading level0 row4\" >4</th>\n",
       "      <td id=\"T_8c9c6_row4_col0\" class=\"data row4 col0\" >41</td>\n",
       "      <td id=\"T_8c9c6_row4_col1\" class=\"data row4 col1\" >4</td>\n",
       "      <td id=\"T_8c9c6_row4_col2\" class=\"data row4 col2\" >9.76%</td>\n",
       "    </tr>\n",
       "    <tr>\n",
       "      <th id=\"T_8c9c6_level0_row5\" class=\"row_heading level0 row5\" >5</th>\n",
       "      <td id=\"T_8c9c6_row5_col0\" class=\"data row5 col0\" >9</td>\n",
       "      <td id=\"T_8c9c6_row5_col1\" class=\"data row5 col1\" >0</td>\n",
       "      <td id=\"T_8c9c6_row5_col2\" class=\"data row5 col2\" >0.00%</td>\n",
       "    </tr>\n",
       "  </tbody>\n",
       "</table>\n"
      ],
      "text/plain": [
       "<pandas.io.formats.style.Styler at 0x1eb073e9d00>"
      ]
     },
     "execution_count": 27,
     "metadata": {},
     "output_type": "execute_result"
    }
   ],
   "source": [
    "data.groupby('children').agg(число_клиентов=('debt','count'),\n",
    "                             число_должников=('debt','sum'),\n",
    "                             доля_должников=('debt','mean')) \\\n",
    "                        .style.format({'доля_должников' : '{:.2%}'})"
   ]
  },
  {
   "cell_type": "markdown",
   "id": "9396ed0c",
   "metadata": {
    "deletable": false,
    "editable": false,
    "id": "97be82ca"
   },
   "source": [
    "#### 3.2 Есть ли зависимость между семейным положением и возвратом кредита в срок?"
   ]
  },
  {
   "cell_type": "markdown",
   "id": "e91e76d7",
   "metadata": {},
   "source": [
    "**Сгруппируем данные по столбцу family_status (семейное положение) и debt (задолженность по кредиту)**\n"
   ]
  },
  {
   "cell_type": "code",
   "execution_count": 28,
   "id": "9c61dc74",
   "metadata": {
    "deletable": false,
    "id": "dc3f7ee8"
   },
   "outputs": [],
   "source": [
    "family_status_grouped = data.groupby('family_status').agg({'debt': ['count', 'sum']})"
   ]
  },
  {
   "cell_type": "markdown",
   "id": "b282b5b2",
   "metadata": {},
   "source": [
    "*Выведем результат на экран и проверим работу группировки столбцов*"
   ]
  },
  {
   "cell_type": "code",
   "execution_count": 29,
   "id": "b578333d",
   "metadata": {},
   "outputs": [
    {
     "data": {
      "text/html": [
       "<div>\n",
       "<style scoped>\n",
       "    .dataframe tbody tr th:only-of-type {\n",
       "        vertical-align: middle;\n",
       "    }\n",
       "\n",
       "    .dataframe tbody tr th {\n",
       "        vertical-align: top;\n",
       "    }\n",
       "\n",
       "    .dataframe thead tr th {\n",
       "        text-align: left;\n",
       "    }\n",
       "\n",
       "    .dataframe thead tr:last-of-type th {\n",
       "        text-align: right;\n",
       "    }\n",
       "</style>\n",
       "<table border=\"1\" class=\"dataframe\">\n",
       "  <thead>\n",
       "    <tr>\n",
       "      <th></th>\n",
       "      <th colspan=\"2\" halign=\"left\">debt</th>\n",
       "    </tr>\n",
       "    <tr>\n",
       "      <th></th>\n",
       "      <th>count</th>\n",
       "      <th>sum</th>\n",
       "    </tr>\n",
       "    <tr>\n",
       "      <th>family_status</th>\n",
       "      <th></th>\n",
       "      <th></th>\n",
       "    </tr>\n",
       "  </thead>\n",
       "  <tbody>\n",
       "    <tr>\n",
       "      <th>Не женат / не замужем</th>\n",
       "      <td>2796</td>\n",
       "      <td>273</td>\n",
       "    </tr>\n",
       "    <tr>\n",
       "      <th>в разводе</th>\n",
       "      <td>1189</td>\n",
       "      <td>84</td>\n",
       "    </tr>\n",
       "    <tr>\n",
       "      <th>вдовец / вдова</th>\n",
       "      <td>951</td>\n",
       "      <td>63</td>\n",
       "    </tr>\n",
       "    <tr>\n",
       "      <th>гражданский брак</th>\n",
       "      <td>4134</td>\n",
       "      <td>385</td>\n",
       "    </tr>\n",
       "    <tr>\n",
       "      <th>женат / замужем</th>\n",
       "      <td>12261</td>\n",
       "      <td>927</td>\n",
       "    </tr>\n",
       "  </tbody>\n",
       "</table>\n",
       "</div>"
      ],
      "text/plain": [
       "                        debt     \n",
       "                       count  sum\n",
       "family_status                    \n",
       "Не женат / не замужем   2796  273\n",
       "в разводе               1189   84\n",
       "вдовец / вдова           951   63\n",
       "гражданский брак        4134  385\n",
       "женат / замужем        12261  927"
      ]
     },
     "execution_count": 29,
     "metadata": {},
     "output_type": "execute_result"
    }
   ],
   "source": [
    "family_status_grouped"
   ]
  },
  {
   "cell_type": "markdown",
   "id": "ece682cb",
   "metadata": {},
   "source": [
    "*Посчитали долю просрочек по кредиту*"
   ]
  },
  {
   "cell_type": "code",
   "execution_count": 30,
   "id": "aa32d616",
   "metadata": {},
   "outputs": [],
   "source": [
    "family_status_grouped['family_status_result'] = family_status_grouped['debt']['sum'] / family_status_grouped['debt']['count']"
   ]
  },
  {
   "cell_type": "markdown",
   "id": "8be5bded",
   "metadata": {},
   "source": [
    "*Отсортируем выборку по столбцу childen_result в порядке убывания и проанализируем результат*"
   ]
  },
  {
   "cell_type": "code",
   "execution_count": 31,
   "id": "23bb95bc",
   "metadata": {},
   "outputs": [
    {
     "data": {
      "text/html": [
       "<div>\n",
       "<style scoped>\n",
       "    .dataframe tbody tr th:only-of-type {\n",
       "        vertical-align: middle;\n",
       "    }\n",
       "\n",
       "    .dataframe tbody tr th {\n",
       "        vertical-align: top;\n",
       "    }\n",
       "\n",
       "    .dataframe thead tr th {\n",
       "        text-align: left;\n",
       "    }\n",
       "\n",
       "    .dataframe thead tr:last-of-type th {\n",
       "        text-align: right;\n",
       "    }\n",
       "</style>\n",
       "<table border=\"1\" class=\"dataframe\">\n",
       "  <thead>\n",
       "    <tr>\n",
       "      <th></th>\n",
       "      <th colspan=\"2\" halign=\"left\">debt</th>\n",
       "      <th>family_status_result</th>\n",
       "    </tr>\n",
       "    <tr>\n",
       "      <th></th>\n",
       "      <th>count</th>\n",
       "      <th>sum</th>\n",
       "      <th></th>\n",
       "    </tr>\n",
       "    <tr>\n",
       "      <th>family_status</th>\n",
       "      <th></th>\n",
       "      <th></th>\n",
       "      <th></th>\n",
       "    </tr>\n",
       "  </thead>\n",
       "  <tbody>\n",
       "    <tr>\n",
       "      <th>Не женат / не замужем</th>\n",
       "      <td>2796</td>\n",
       "      <td>273</td>\n",
       "      <td>0.097639</td>\n",
       "    </tr>\n",
       "    <tr>\n",
       "      <th>гражданский брак</th>\n",
       "      <td>4134</td>\n",
       "      <td>385</td>\n",
       "      <td>0.093130</td>\n",
       "    </tr>\n",
       "    <tr>\n",
       "      <th>женат / замужем</th>\n",
       "      <td>12261</td>\n",
       "      <td>927</td>\n",
       "      <td>0.075606</td>\n",
       "    </tr>\n",
       "    <tr>\n",
       "      <th>в разводе</th>\n",
       "      <td>1189</td>\n",
       "      <td>84</td>\n",
       "      <td>0.070648</td>\n",
       "    </tr>\n",
       "    <tr>\n",
       "      <th>вдовец / вдова</th>\n",
       "      <td>951</td>\n",
       "      <td>63</td>\n",
       "      <td>0.066246</td>\n",
       "    </tr>\n",
       "  </tbody>\n",
       "</table>\n",
       "</div>"
      ],
      "text/plain": [
       "                        debt      family_status_result\n",
       "                       count  sum                     \n",
       "family_status                                         \n",
       "Не женат / не замужем   2796  273             0.097639\n",
       "гражданский брак        4134  385             0.093130\n",
       "женат / замужем        12261  927             0.075606\n",
       "в разводе               1189   84             0.070648\n",
       "вдовец / вдова           951   63             0.066246"
      ]
     },
     "execution_count": 31,
     "metadata": {},
     "output_type": "execute_result"
    }
   ],
   "source": [
    "family_status_grouped.sort_values(by='family_status_result', ascending=False)"
   ]
  },
  {
   "cell_type": "code",
   "execution_count": 32,
   "id": "947ada07",
   "metadata": {},
   "outputs": [
    {
     "data": {
      "text/html": [
       "<style type=\"text/css\">\n",
       "</style>\n",
       "<table id=\"T_b8075\">\n",
       "  <thead>\n",
       "    <tr>\n",
       "      <th class=\"blank level0\" >&nbsp;</th>\n",
       "      <th id=\"T_b8075_level0_col0\" class=\"col_heading level0 col0\" >число_клиентов</th>\n",
       "      <th id=\"T_b8075_level0_col1\" class=\"col_heading level0 col1\" >число_должников</th>\n",
       "      <th id=\"T_b8075_level0_col2\" class=\"col_heading level0 col2\" >доля_должников</th>\n",
       "    </tr>\n",
       "    <tr>\n",
       "      <th class=\"index_name level0\" >family_status</th>\n",
       "      <th class=\"blank col0\" >&nbsp;</th>\n",
       "      <th class=\"blank col1\" >&nbsp;</th>\n",
       "      <th class=\"blank col2\" >&nbsp;</th>\n",
       "    </tr>\n",
       "  </thead>\n",
       "  <tbody>\n",
       "    <tr>\n",
       "      <th id=\"T_b8075_level0_row0\" class=\"row_heading level0 row0\" >Не женат / не замужем</th>\n",
       "      <td id=\"T_b8075_row0_col0\" class=\"data row0 col0\" >2796</td>\n",
       "      <td id=\"T_b8075_row0_col1\" class=\"data row0 col1\" >273</td>\n",
       "      <td id=\"T_b8075_row0_col2\" class=\"data row0 col2\" >9.76%</td>\n",
       "    </tr>\n",
       "    <tr>\n",
       "      <th id=\"T_b8075_level0_row1\" class=\"row_heading level0 row1\" >в разводе</th>\n",
       "      <td id=\"T_b8075_row1_col0\" class=\"data row1 col0\" >1189</td>\n",
       "      <td id=\"T_b8075_row1_col1\" class=\"data row1 col1\" >84</td>\n",
       "      <td id=\"T_b8075_row1_col2\" class=\"data row1 col2\" >7.06%</td>\n",
       "    </tr>\n",
       "    <tr>\n",
       "      <th id=\"T_b8075_level0_row2\" class=\"row_heading level0 row2\" >вдовец / вдова</th>\n",
       "      <td id=\"T_b8075_row2_col0\" class=\"data row2 col0\" >951</td>\n",
       "      <td id=\"T_b8075_row2_col1\" class=\"data row2 col1\" >63</td>\n",
       "      <td id=\"T_b8075_row2_col2\" class=\"data row2 col2\" >6.62%</td>\n",
       "    </tr>\n",
       "    <tr>\n",
       "      <th id=\"T_b8075_level0_row3\" class=\"row_heading level0 row3\" >гражданский брак</th>\n",
       "      <td id=\"T_b8075_row3_col0\" class=\"data row3 col0\" >4134</td>\n",
       "      <td id=\"T_b8075_row3_col1\" class=\"data row3 col1\" >385</td>\n",
       "      <td id=\"T_b8075_row3_col2\" class=\"data row3 col2\" >9.31%</td>\n",
       "    </tr>\n",
       "    <tr>\n",
       "      <th id=\"T_b8075_level0_row4\" class=\"row_heading level0 row4\" >женат / замужем</th>\n",
       "      <td id=\"T_b8075_row4_col0\" class=\"data row4 col0\" >12261</td>\n",
       "      <td id=\"T_b8075_row4_col1\" class=\"data row4 col1\" >927</td>\n",
       "      <td id=\"T_b8075_row4_col2\" class=\"data row4 col2\" >7.56%</td>\n",
       "    </tr>\n",
       "  </tbody>\n",
       "</table>\n"
      ],
      "text/plain": [
       "<pandas.io.formats.style.Styler at 0x1eb0741b550>"
      ]
     },
     "execution_count": 32,
     "metadata": {},
     "output_type": "execute_result"
    }
   ],
   "source": [
    "data.groupby('family_status').agg(число_клиентов=('debt','count'),\n",
    "                             число_должников=('debt','sum'),\n",
    "                             доля_должников=('debt','mean')) \\\n",
    "                        .style.format({'доля_должников' : '{:.2%}'})"
   ]
  },
  {
   "cell_type": "markdown",
   "id": "574344c2",
   "metadata": {
    "deletable": false,
    "id": "1cef7837"
   },
   "source": [
    "**Вывод:** \n",
    "<div style=\"border:solid SteelBlue 3px; padding: 20px\">\n",
    "Клиенты из категории не женат/не замужем и находящиеся в гражданском браке имеют больший процент просроченных платежей по кредиту. \n",
    "Те кто в разводе или овдовели чаще платят в срок, чем люди в браке.\n",
    "</div>"
   ]
  },
  {
   "cell_type": "markdown",
   "id": "ea0866af",
   "metadata": {
    "deletable": false,
    "editable": false,
    "id": "1e8b2fca"
   },
   "source": [
    "#### 3.3 Есть ли зависимость между уровнем дохода и возвратом кредита в срок?"
   ]
  },
  {
   "cell_type": "markdown",
   "id": "f7ac41da",
   "metadata": {},
   "source": [
    "**Сгруппируем данные по столбцу total_income (ежемесячный доход) и debt (задолженность по кредиту)**"
   ]
  },
  {
   "cell_type": "code",
   "execution_count": 33,
   "id": "c10bd92a",
   "metadata": {
    "deletable": false,
    "id": "cd7e3720"
   },
   "outputs": [],
   "source": [
    "total_income_grouped = data.groupby('total_income').agg({'debt': ['count', 'sum']})"
   ]
  },
  {
   "cell_type": "markdown",
   "id": "9c29d8c0",
   "metadata": {},
   "source": [
    "*Выведем результат на экран и проверим работу группировки столбцов*"
   ]
  },
  {
   "cell_type": "code",
   "execution_count": 34,
   "id": "148c5095",
   "metadata": {},
   "outputs": [
    {
     "data": {
      "text/html": [
       "<div>\n",
       "<style scoped>\n",
       "    .dataframe tbody tr th:only-of-type {\n",
       "        vertical-align: middle;\n",
       "    }\n",
       "\n",
       "    .dataframe tbody tr th {\n",
       "        vertical-align: top;\n",
       "    }\n",
       "\n",
       "    .dataframe thead tr th {\n",
       "        text-align: left;\n",
       "    }\n",
       "\n",
       "    .dataframe thead tr:last-of-type th {\n",
       "        text-align: right;\n",
       "    }\n",
       "</style>\n",
       "<table border=\"1\" class=\"dataframe\">\n",
       "  <thead>\n",
       "    <tr>\n",
       "      <th></th>\n",
       "      <th colspan=\"2\" halign=\"left\">debt</th>\n",
       "    </tr>\n",
       "    <tr>\n",
       "      <th></th>\n",
       "      <th>count</th>\n",
       "      <th>sum</th>\n",
       "    </tr>\n",
       "    <tr>\n",
       "      <th>total_income</th>\n",
       "      <th></th>\n",
       "      <th></th>\n",
       "    </tr>\n",
       "  </thead>\n",
       "  <tbody>\n",
       "    <tr>\n",
       "      <th>20667</th>\n",
       "      <td>1</td>\n",
       "      <td>1</td>\n",
       "    </tr>\n",
       "    <tr>\n",
       "      <th>21205</th>\n",
       "      <td>1</td>\n",
       "      <td>0</td>\n",
       "    </tr>\n",
       "    <tr>\n",
       "      <th>21367</th>\n",
       "      <td>1</td>\n",
       "      <td>0</td>\n",
       "    </tr>\n",
       "    <tr>\n",
       "      <th>21695</th>\n",
       "      <td>1</td>\n",
       "      <td>0</td>\n",
       "    </tr>\n",
       "    <tr>\n",
       "      <th>21895</th>\n",
       "      <td>1</td>\n",
       "      <td>0</td>\n",
       "    </tr>\n",
       "    <tr>\n",
       "      <th>...</th>\n",
       "      <td>...</td>\n",
       "      <td>...</td>\n",
       "    </tr>\n",
       "    <tr>\n",
       "      <th>1711309</th>\n",
       "      <td>1</td>\n",
       "      <td>0</td>\n",
       "    </tr>\n",
       "    <tr>\n",
       "      <th>1715018</th>\n",
       "      <td>1</td>\n",
       "      <td>0</td>\n",
       "    </tr>\n",
       "    <tr>\n",
       "      <th>1726276</th>\n",
       "      <td>1</td>\n",
       "      <td>0</td>\n",
       "    </tr>\n",
       "    <tr>\n",
       "      <th>2200852</th>\n",
       "      <td>1</td>\n",
       "      <td>1</td>\n",
       "    </tr>\n",
       "    <tr>\n",
       "      <th>2265604</th>\n",
       "      <td>1</td>\n",
       "      <td>0</td>\n",
       "    </tr>\n",
       "  </tbody>\n",
       "</table>\n",
       "<p>18504 rows × 2 columns</p>\n",
       "</div>"
      ],
      "text/plain": [
       "              debt    \n",
       "             count sum\n",
       "total_income          \n",
       "20667            1   1\n",
       "21205            1   0\n",
       "21367            1   0\n",
       "21695            1   0\n",
       "21895            1   0\n",
       "...            ...  ..\n",
       "1711309          1   0\n",
       "1715018          1   0\n",
       "1726276          1   0\n",
       "2200852          1   1\n",
       "2265604          1   0\n",
       "\n",
       "[18504 rows x 2 columns]"
      ]
     },
     "execution_count": 34,
     "metadata": {},
     "output_type": "execute_result"
    }
   ],
   "source": [
    "total_income_grouped "
   ]
  },
  {
   "cell_type": "markdown",
   "id": "e1df03d0",
   "metadata": {},
   "source": [
    "*Посчитали долю просрочек по кредиту*"
   ]
  },
  {
   "cell_type": "code",
   "execution_count": 35,
   "id": "b48c726c",
   "metadata": {},
   "outputs": [],
   "source": [
    "total_income_grouped['total_income_result'] = total_income_grouped['debt']['sum'] / total_income_grouped['debt']['count']"
   ]
  },
  {
   "cell_type": "markdown",
   "id": "b45852d8",
   "metadata": {},
   "source": [
    "*Категоризируем уровень дохода создав  столбец total_income_id. Выполним целочисленное деление дохода на 50000, тем самым разбив людей на категории каждые 50000 дохода.*\n"
   ]
  },
  {
   "cell_type": "code",
   "execution_count": 36,
   "id": "997b57d8",
   "metadata": {},
   "outputs": [
    {
     "data": {
      "text/html": [
       "<div>\n",
       "<style scoped>\n",
       "    .dataframe tbody tr th:only-of-type {\n",
       "        vertical-align: middle;\n",
       "    }\n",
       "\n",
       "    .dataframe tbody tr th {\n",
       "        vertical-align: top;\n",
       "    }\n",
       "\n",
       "    .dataframe thead tr th {\n",
       "        text-align: left;\n",
       "    }\n",
       "\n",
       "    .dataframe thead tr:last-of-type th {\n",
       "        text-align: right;\n",
       "    }\n",
       "</style>\n",
       "<table border=\"1\" class=\"dataframe\">\n",
       "  <thead>\n",
       "    <tr>\n",
       "      <th></th>\n",
       "      <th colspan=\"2\" halign=\"left\">debt</th>\n",
       "      <th>total_income_result</th>\n",
       "    </tr>\n",
       "    <tr>\n",
       "      <th></th>\n",
       "      <th>count</th>\n",
       "      <th>sum</th>\n",
       "      <th></th>\n",
       "    </tr>\n",
       "    <tr>\n",
       "      <th>total_income_id</th>\n",
       "      <th></th>\n",
       "      <th></th>\n",
       "      <th></th>\n",
       "    </tr>\n",
       "  </thead>\n",
       "  <tbody>\n",
       "    <tr>\n",
       "      <th>2</th>\n",
       "      <td>7110</td>\n",
       "      <td>619</td>\n",
       "      <td>0.087060</td>\n",
       "    </tr>\n",
       "    <tr>\n",
       "      <th>3</th>\n",
       "      <td>4738</td>\n",
       "      <td>403</td>\n",
       "      <td>0.085057</td>\n",
       "    </tr>\n",
       "    <tr>\n",
       "      <th>6</th>\n",
       "      <td>617</td>\n",
       "      <td>51</td>\n",
       "      <td>0.082658</td>\n",
       "    </tr>\n",
       "    <tr>\n",
       "      <th>1</th>\n",
       "      <td>4073</td>\n",
       "      <td>331</td>\n",
       "      <td>0.081267</td>\n",
       "    </tr>\n",
       "    <tr>\n",
       "      <th>7</th>\n",
       "      <td>329</td>\n",
       "      <td>24</td>\n",
       "      <td>0.072948</td>\n",
       "    </tr>\n",
       "    <tr>\n",
       "      <th>4</th>\n",
       "      <td>2242</td>\n",
       "      <td>162</td>\n",
       "      <td>0.072257</td>\n",
       "    </tr>\n",
       "    <tr>\n",
       "      <th>8</th>\n",
       "      <td>195</td>\n",
       "      <td>13</td>\n",
       "      <td>0.066667</td>\n",
       "    </tr>\n",
       "    <tr>\n",
       "      <th>5</th>\n",
       "      <td>1323</td>\n",
       "      <td>88</td>\n",
       "      <td>0.066515</td>\n",
       "    </tr>\n",
       "    <tr>\n",
       "      <th>10</th>\n",
       "      <td>222</td>\n",
       "      <td>14</td>\n",
       "      <td>0.063063</td>\n",
       "    </tr>\n",
       "    <tr>\n",
       "      <th>0</th>\n",
       "      <td>371</td>\n",
       "      <td>23</td>\n",
       "      <td>0.061995</td>\n",
       "    </tr>\n",
       "    <tr>\n",
       "      <th>9</th>\n",
       "      <td>111</td>\n",
       "      <td>4</td>\n",
       "      <td>0.036036</td>\n",
       "    </tr>\n",
       "  </tbody>\n",
       "</table>\n",
       "</div>"
      ],
      "text/plain": [
       "                 debt      total_income_result\n",
       "                count  sum                    \n",
       "total_income_id                               \n",
       "2                7110  619            0.087060\n",
       "3                4738  403            0.085057\n",
       "6                 617   51            0.082658\n",
       "1                4073  331            0.081267\n",
       "7                 329   24            0.072948\n",
       "4                2242  162            0.072257\n",
       "8                 195   13            0.066667\n",
       "5                1323   88            0.066515\n",
       "10                222   14            0.063063\n",
       "0                 371   23            0.061995\n",
       "9                 111    4            0.036036"
      ]
     },
     "execution_count": 36,
     "metadata": {},
     "output_type": "execute_result"
    }
   ],
   "source": [
    "def total_income_category(row):\n",
    "    if row >= 500000:\n",
    "        return 10\n",
    "    else:\n",
    "        row = row // 50000\n",
    "        return row\n",
    "\n",
    "data['total_income_id'] = data['total_income'].apply(total_income_category)\n",
    "data['total_income_id'].value_counts()\n",
    "total_income_grouped = pd.DataFrame()\n",
    "total_income_grouped = data.groupby('total_income_id').agg({'debt': ['count', 'sum']})\n",
    "total_income_grouped['total_income_result'] = total_income_grouped['debt']['sum'] / total_income_grouped['debt']['count']\n",
    "total_income_grouped.sort_values(by='total_income_result', ascending = False)"
   ]
  },
  {
   "cell_type": "markdown",
   "id": "75963855",
   "metadata": {
    "deletable": false,
    "id": "e8593def"
   },
   "source": [
    "**Вывод:** \n",
    "<div style=\"border:solid SteelBlue 3px; padding: 20px\">\n",
    "  На основании среза данных по уровню дохода и количеством просрочек по кредитам, можно сделать следующие выводы:  \n",
    "    \n",
    "- Люди с низким доходом имеют меньше просрочек по кредитам. Почти такой же показатель и у людей с очень высоким доходом.   \n",
    "\n",
    "- Что касается людей с низким доходом. \n",
    "Кредит для них очень важен. Имея низкий доход, они взяли кредит на то, что действительно нужно и понимают, что важно не портить кредитную историю.  \n",
    "\n",
    "- Что касается людей с очень высоким уровнем дохода. Они понимают ценность денег. \n",
    "И выплата кредита особо не влияет на их бюджет. Для них кредиты это постояннство, чаще всего связанное с бизнесом и портить кредитную историю им также не хочется.  \n",
    "    \n",
    "- Плохая история по просроченным платежам у категории с высоким доходом. \n",
    "Возможно есть не серьезное отношение к кредиту. И возможно в ближайшее время закроют кредит полностью.\n",
    "  \n",
    "- Самая \"опасная\" история у клиентов со средним достатком, возможно это связано с финансовой нагрузкой.\n",
    "</div>"
   ]
  },
  {
   "cell_type": "markdown",
   "id": "291e839a",
   "metadata": {
    "deletable": false,
    "editable": false,
    "id": "99ecbd1f"
   },
   "source": [
    "#### 3.4 Как разные цели кредита влияют на его возврат в срок?"
   ]
  },
  {
   "cell_type": "markdown",
   "id": "eda84a3e",
   "metadata": {},
   "source": [
    "*Отстортируем данные по столбцу purpose (цель получения кредита)*"
   ]
  },
  {
   "cell_type": "code",
   "execution_count": 37,
   "id": "c810d11a",
   "metadata": {
    "deletable": false,
    "id": "2b687290"
   },
   "outputs": [],
   "source": [
    "purpose_grouped=data.groupby('purpose_category').agg({'debt':['sum','count']})"
   ]
  },
  {
   "cell_type": "markdown",
   "id": "992c1b04",
   "metadata": {},
   "source": [
    "*Выведем результат и проверим работу группировки столбцов*"
   ]
  },
  {
   "cell_type": "code",
   "execution_count": 38,
   "id": "5cf042f7",
   "metadata": {},
   "outputs": [
    {
     "data": {
      "text/html": [
       "<div>\n",
       "<style scoped>\n",
       "    .dataframe tbody tr th:only-of-type {\n",
       "        vertical-align: middle;\n",
       "    }\n",
       "\n",
       "    .dataframe tbody tr th {\n",
       "        vertical-align: top;\n",
       "    }\n",
       "\n",
       "    .dataframe thead tr th {\n",
       "        text-align: left;\n",
       "    }\n",
       "\n",
       "    .dataframe thead tr:last-of-type th {\n",
       "        text-align: right;\n",
       "    }\n",
       "</style>\n",
       "<table border=\"1\" class=\"dataframe\">\n",
       "  <thead>\n",
       "    <tr>\n",
       "      <th></th>\n",
       "      <th colspan=\"2\" halign=\"left\">debt</th>\n",
       "    </tr>\n",
       "    <tr>\n",
       "      <th></th>\n",
       "      <th>sum</th>\n",
       "      <th>count</th>\n",
       "    </tr>\n",
       "    <tr>\n",
       "      <th>purpose_category</th>\n",
       "      <th></th>\n",
       "      <th></th>\n",
       "    </tr>\n",
       "  </thead>\n",
       "  <tbody>\n",
       "    <tr>\n",
       "      <th>операции с автомобилем</th>\n",
       "      <td>400</td>\n",
       "      <td>4279</td>\n",
       "    </tr>\n",
       "    <tr>\n",
       "      <th>операции с недвижимостью</th>\n",
       "      <td>780</td>\n",
       "      <td>10751</td>\n",
       "    </tr>\n",
       "    <tr>\n",
       "      <th>получение образования</th>\n",
       "      <td>369</td>\n",
       "      <td>3988</td>\n",
       "    </tr>\n",
       "    <tr>\n",
       "      <th>проведение свадьбы</th>\n",
       "      <td>183</td>\n",
       "      <td>2313</td>\n",
       "    </tr>\n",
       "  </tbody>\n",
       "</table>\n",
       "</div>"
      ],
      "text/plain": [
       "                         debt       \n",
       "                          sum  count\n",
       "purpose_category                    \n",
       "операции с автомобилем    400   4279\n",
       "операции с недвижимостью  780  10751\n",
       "получение образования     369   3988\n",
       "проведение свадьбы        183   2313"
      ]
     },
     "execution_count": 38,
     "metadata": {},
     "output_type": "execute_result"
    }
   ],
   "source": [
    "purpose_grouped.head(10)"
   ]
  },
  {
   "cell_type": "markdown",
   "id": "1c636347",
   "metadata": {},
   "source": [
    "*Посчитали долю просрочек по кредиту*"
   ]
  },
  {
   "cell_type": "code",
   "execution_count": 39,
   "id": "d5c3a955",
   "metadata": {},
   "outputs": [],
   "source": [
    "purpose_grouped['purpose_result'] = purpose_grouped['debt']['sum'] / purpose_grouped['debt']['count']"
   ]
  },
  {
   "cell_type": "code",
   "execution_count": 40,
   "id": "dbc8e70a",
   "metadata": {},
   "outputs": [
    {
     "data": {
      "text/html": [
       "<div>\n",
       "<style scoped>\n",
       "    .dataframe tbody tr th:only-of-type {\n",
       "        vertical-align: middle;\n",
       "    }\n",
       "\n",
       "    .dataframe tbody tr th {\n",
       "        vertical-align: top;\n",
       "    }\n",
       "\n",
       "    .dataframe thead tr th {\n",
       "        text-align: left;\n",
       "    }\n",
       "\n",
       "    .dataframe thead tr:last-of-type th {\n",
       "        text-align: right;\n",
       "    }\n",
       "</style>\n",
       "<table border=\"1\" class=\"dataframe\">\n",
       "  <thead>\n",
       "    <tr>\n",
       "      <th></th>\n",
       "      <th colspan=\"2\" halign=\"left\">debt</th>\n",
       "      <th>purpose_result</th>\n",
       "    </tr>\n",
       "    <tr>\n",
       "      <th></th>\n",
       "      <th>sum</th>\n",
       "      <th>count</th>\n",
       "      <th></th>\n",
       "    </tr>\n",
       "    <tr>\n",
       "      <th>purpose_category</th>\n",
       "      <th></th>\n",
       "      <th></th>\n",
       "      <th></th>\n",
       "    </tr>\n",
       "  </thead>\n",
       "  <tbody>\n",
       "    <tr>\n",
       "      <th>операции с автомобилем</th>\n",
       "      <td>400</td>\n",
       "      <td>4279</td>\n",
       "      <td>0.093480</td>\n",
       "    </tr>\n",
       "    <tr>\n",
       "      <th>получение образования</th>\n",
       "      <td>369</td>\n",
       "      <td>3988</td>\n",
       "      <td>0.092528</td>\n",
       "    </tr>\n",
       "    <tr>\n",
       "      <th>проведение свадьбы</th>\n",
       "      <td>183</td>\n",
       "      <td>2313</td>\n",
       "      <td>0.079118</td>\n",
       "    </tr>\n",
       "    <tr>\n",
       "      <th>операции с недвижимостью</th>\n",
       "      <td>780</td>\n",
       "      <td>10751</td>\n",
       "      <td>0.072551</td>\n",
       "    </tr>\n",
       "  </tbody>\n",
       "</table>\n",
       "</div>"
      ],
      "text/plain": [
       "                         debt        purpose_result\n",
       "                          sum  count               \n",
       "purpose_category                                   \n",
       "операции с автомобилем    400   4279       0.093480\n",
       "получение образования     369   3988       0.092528\n",
       "проведение свадьбы        183   2313       0.079118\n",
       "операции с недвижимостью  780  10751       0.072551"
      ]
     },
     "execution_count": 40,
     "metadata": {},
     "output_type": "execute_result"
    }
   ],
   "source": [
    "purpose_grouped.sort_values(by='purpose_result', ascending=False)"
   ]
  },
  {
   "cell_type": "code",
   "execution_count": 41,
   "id": "c7f84116",
   "metadata": {},
   "outputs": [
    {
     "data": {
      "text/html": [
       "<style type=\"text/css\">\n",
       "</style>\n",
       "<table id=\"T_828f7\">\n",
       "  <thead>\n",
       "    <tr>\n",
       "      <th class=\"blank level0\" >&nbsp;</th>\n",
       "      <th id=\"T_828f7_level0_col0\" class=\"col_heading level0 col0\" >число_клиентов</th>\n",
       "      <th id=\"T_828f7_level0_col1\" class=\"col_heading level0 col1\" >число_должников</th>\n",
       "      <th id=\"T_828f7_level0_col2\" class=\"col_heading level0 col2\" >доля_должников</th>\n",
       "    </tr>\n",
       "    <tr>\n",
       "      <th class=\"index_name level0\" >purpose_category</th>\n",
       "      <th class=\"blank col0\" >&nbsp;</th>\n",
       "      <th class=\"blank col1\" >&nbsp;</th>\n",
       "      <th class=\"blank col2\" >&nbsp;</th>\n",
       "    </tr>\n",
       "  </thead>\n",
       "  <tbody>\n",
       "    <tr>\n",
       "      <th id=\"T_828f7_level0_row0\" class=\"row_heading level0 row0\" >операции с автомобилем</th>\n",
       "      <td id=\"T_828f7_row0_col0\" class=\"data row0 col0\" >4279</td>\n",
       "      <td id=\"T_828f7_row0_col1\" class=\"data row0 col1\" >400</td>\n",
       "      <td id=\"T_828f7_row0_col2\" class=\"data row0 col2\" >9.35%</td>\n",
       "    </tr>\n",
       "    <tr>\n",
       "      <th id=\"T_828f7_level0_row1\" class=\"row_heading level0 row1\" >операции с недвижимостью</th>\n",
       "      <td id=\"T_828f7_row1_col0\" class=\"data row1 col0\" >10751</td>\n",
       "      <td id=\"T_828f7_row1_col1\" class=\"data row1 col1\" >780</td>\n",
       "      <td id=\"T_828f7_row1_col2\" class=\"data row1 col2\" >7.26%</td>\n",
       "    </tr>\n",
       "    <tr>\n",
       "      <th id=\"T_828f7_level0_row2\" class=\"row_heading level0 row2\" >получение образования</th>\n",
       "      <td id=\"T_828f7_row2_col0\" class=\"data row2 col0\" >3988</td>\n",
       "      <td id=\"T_828f7_row2_col1\" class=\"data row2 col1\" >369</td>\n",
       "      <td id=\"T_828f7_row2_col2\" class=\"data row2 col2\" >9.25%</td>\n",
       "    </tr>\n",
       "    <tr>\n",
       "      <th id=\"T_828f7_level0_row3\" class=\"row_heading level0 row3\" >проведение свадьбы</th>\n",
       "      <td id=\"T_828f7_row3_col0\" class=\"data row3 col0\" >2313</td>\n",
       "      <td id=\"T_828f7_row3_col1\" class=\"data row3 col1\" >183</td>\n",
       "      <td id=\"T_828f7_row3_col2\" class=\"data row3 col2\" >7.91%</td>\n",
       "    </tr>\n",
       "  </tbody>\n",
       "</table>\n"
      ],
      "text/plain": [
       "<pandas.io.formats.style.Styler at 0x1eb082ad580>"
      ]
     },
     "execution_count": 41,
     "metadata": {},
     "output_type": "execute_result"
    }
   ],
   "source": [
    "data.groupby('purpose_category').agg(число_клиентов=('debt','count'),\n",
    "                             число_должников=('debt','sum'),\n",
    "                             доля_должников=('debt','mean')) \\\n",
    "                        .style.format({'доля_должников' : '{:.2%}'})"
   ]
  },
  {
   "cell_type": "markdown",
   "id": "d80d5654",
   "metadata": {
    "deletable": false,
    "id": "b4bb2ce6"
   },
   "source": [
    "**Вывод:** \n",
    "<div style=\"border:solid SteelBlue 3px; padding: 20px\">\n",
    "    \n",
    "- Больше всего просрочек по кредитам на автомобиль и образование. \n",
    "Это объясняется тем, что на рынке автокредитования создаются привлекательные предложения и человек берет кредит не оценивая свои возможности. \n",
    " \n",
    "- Кредиты на проведение свадеб и на недвижимось имеют меньше просроченных платежей. \n",
    "Клиент, покупая недвижимость в ипотеку, хорошо просчитывает свои возможности, так как срок платежа очень большой и риск остаться без жилья после неуплаты кредита велик.\n",
    "</div>"
   ]
  },
  {
   "cell_type": "markdown",
   "id": "8523047c",
   "metadata": {
    "deletable": false,
    "editable": false,
    "id": "09c3ac4c"
   },
   "source": [
    "#### 3.5 Приведите возможные причины появления пропусков в исходных данных."
   ]
  },
  {
   "cell_type": "markdown",
   "id": "e8e71217",
   "metadata": {
    "deletable": false,
    "id": "9da2ceda"
   },
   "source": [
    "*Ответ:*\n",
    "Пропуски в данной таблице связаны с разными категориями граждан - у них не указан стаж и уровень дохода. \n",
    "Возможно, не указали по причине, что нет подтвержденного дохода и стажа (работа в черную и тд). Но этого мы в данном случае уточнить не можем."
   ]
  },
  {
   "cell_type": "markdown",
   "id": "24823721",
   "metadata": {
    "deletable": false,
    "editable": false,
    "id": "7b0487d6"
   },
   "source": [
    "#### 3.6 Объясните, почему заполнить пропуски медианным значением — лучшее решение для количественных переменных."
   ]
  },
  {
   "cell_type": "markdown",
   "id": "372daca9",
   "metadata": {
    "deletable": false,
    "id": "7ecf2b8e"
   },
   "source": [
    "*Ответ:* Медиана позволит получить более точную информацию и снизить возможную статистическую погрешность.\n",
    "Так как, если брать среднее значение, оно некорректно характеризует данные, когда некоторые значения сильно выделяются среди других."
   ]
  },
  {
   "cell_type": "markdown",
   "id": "1d135b8a",
   "metadata": {
    "deletable": false,
    "editable": false,
    "id": "6db5255a"
   },
   "source": [
    "### Шаг 4: общий вывод."
   ]
  },
  {
   "cell_type": "markdown",
   "id": "4c85f705",
   "metadata": {
    "deletable": false,
    "id": "bad65432"
   },
   "source": [
    "<div style=\"border:solid green 2px; padding: 20px\">\n",
    "    \n",
    "Самыми надежными заемщиками будут - клиенты\n",
    "без детей, в разводе или вдовцы/вдовы, имеющие низкий или очень высокий уровень дохода  и берущие деньги на недвижимость.\n",
    "</div>    "
   ]
  }
 ],
 "metadata": {
  "ExecuteTimeLog": [
   {
    "duration": 52,
    "start_time": "2022-08-29T08:30:09.172Z"
   },
   {
    "duration": 721,
    "start_time": "2022-08-29T08:30:17.246Z"
   },
   {
    "duration": 20,
    "start_time": "2022-08-29T08:30:17.969Z"
   },
   {
    "duration": 13,
    "start_time": "2022-08-29T08:30:17.991Z"
   },
   {
    "duration": 17,
    "start_time": "2022-08-29T08:30:18.006Z"
   },
   {
    "duration": 35,
    "start_time": "2022-08-29T08:30:18.025Z"
   },
   {
    "duration": 4,
    "start_time": "2022-08-29T08:30:18.061Z"
   },
   {
    "duration": 15,
    "start_time": "2022-08-29T08:30:18.066Z"
   },
   {
    "duration": 5,
    "start_time": "2022-08-29T08:30:18.083Z"
   },
   {
    "duration": 10,
    "start_time": "2022-08-29T08:30:18.089Z"
   },
   {
    "duration": 4,
    "start_time": "2022-08-29T08:30:18.100Z"
   },
   {
    "duration": 34,
    "start_time": "2022-08-29T08:30:18.114Z"
   },
   {
    "duration": 9,
    "start_time": "2022-08-29T08:30:18.149Z"
   },
   {
    "duration": 5,
    "start_time": "2022-08-29T08:30:18.160Z"
   },
   {
    "duration": 14,
    "start_time": "2022-08-29T08:30:18.167Z"
   },
   {
    "duration": 42,
    "start_time": "2022-08-29T08:30:18.182Z"
   },
   {
    "duration": 15,
    "start_time": "2022-08-29T08:30:18.226Z"
   },
   {
    "duration": 3,
    "start_time": "2022-08-29T08:30:18.243Z"
   },
   {
    "duration": 12,
    "start_time": "2022-08-29T08:30:18.247Z"
   },
   {
    "duration": 10,
    "start_time": "2022-08-29T08:30:18.261Z"
   },
   {
    "duration": 7,
    "start_time": "2022-08-29T08:30:18.272Z"
   },
   {
    "duration": 11,
    "start_time": "2022-08-29T08:30:18.280Z"
   },
   {
    "duration": 20,
    "start_time": "2022-08-29T08:30:18.293Z"
   },
   {
    "duration": 6,
    "start_time": "2022-08-29T08:30:18.315Z"
   },
   {
    "duration": 16,
    "start_time": "2022-08-29T08:30:18.323Z"
   },
   {
    "duration": 6,
    "start_time": "2022-08-29T08:30:18.341Z"
   },
   {
    "duration": 3,
    "start_time": "2022-08-29T08:37:56.204Z"
   },
   {
    "duration": 62,
    "start_time": "2022-08-29T08:49:47.820Z"
   },
   {
    "duration": 4,
    "start_time": "2022-08-29T08:49:57.364Z"
   },
   {
    "duration": 52,
    "start_time": "2022-08-29T09:02:27.298Z"
   },
   {
    "duration": 3,
    "start_time": "2022-08-29T09:09:32.106Z"
   },
   {
    "duration": 26,
    "start_time": "2022-08-29T09:13:26.850Z"
   },
   {
    "duration": 7,
    "start_time": "2022-08-29T09:40:04.221Z"
   },
   {
    "duration": 7,
    "start_time": "2022-08-29T09:40:25.591Z"
   },
   {
    "duration": 4,
    "start_time": "2022-08-29T09:47:22.990Z"
   },
   {
    "duration": 4,
    "start_time": "2022-08-29T09:47:37.790Z"
   },
   {
    "duration": 4,
    "start_time": "2022-08-29T09:48:51.674Z"
   },
   {
    "duration": 4,
    "start_time": "2022-08-29T09:48:57.962Z"
   },
   {
    "duration": 4,
    "start_time": "2022-08-29T09:49:20.370Z"
   },
   {
    "duration": 7,
    "start_time": "2022-08-29T09:58:40.043Z"
   },
   {
    "duration": 4,
    "start_time": "2022-08-29T09:59:09.343Z"
   },
   {
    "duration": 66,
    "start_time": "2022-08-29T09:59:21.223Z"
   },
   {
    "duration": 8,
    "start_time": "2022-08-29T09:59:58.744Z"
   },
   {
    "duration": 10,
    "start_time": "2022-08-29T10:00:55.525Z"
   },
   {
    "duration": 9,
    "start_time": "2022-08-29T10:01:04.984Z"
   },
   {
    "duration": 7,
    "start_time": "2022-08-29T10:01:15.294Z"
   },
   {
    "duration": 10,
    "start_time": "2022-08-29T10:01:26.119Z"
   },
   {
    "duration": 7,
    "start_time": "2022-08-29T10:32:06.272Z"
   },
   {
    "duration": 8,
    "start_time": "2022-08-29T10:32:14.800Z"
   },
   {
    "duration": 5,
    "start_time": "2022-08-29T10:36:50.836Z"
   },
   {
    "duration": 14,
    "start_time": "2022-08-29T10:37:59.524Z"
   },
   {
    "duration": 2,
    "start_time": "2022-08-29T10:55:23.845Z"
   },
   {
    "duration": 10,
    "start_time": "2022-08-29T10:57:52.425Z"
   },
   {
    "duration": 11,
    "start_time": "2022-08-29T10:58:24.336Z"
   },
   {
    "duration": 8,
    "start_time": "2022-08-29T10:59:06.754Z"
   },
   {
    "duration": 6,
    "start_time": "2022-08-29T11:00:18.477Z"
   },
   {
    "duration": 13,
    "start_time": "2022-08-29T11:01:10.373Z"
   },
   {
    "duration": 11,
    "start_time": "2022-08-29T11:02:38.244Z"
   },
   {
    "duration": 13,
    "start_time": "2022-08-29T11:02:53.632Z"
   },
   {
    "duration": 14,
    "start_time": "2022-08-29T11:05:47.204Z"
   },
   {
    "duration": 13,
    "start_time": "2022-08-29T11:05:54.212Z"
   },
   {
    "duration": 13,
    "start_time": "2022-08-29T11:06:03.273Z"
   },
   {
    "duration": 11,
    "start_time": "2022-08-29T11:07:11.761Z"
   },
   {
    "duration": 9,
    "start_time": "2022-08-29T11:07:27.965Z"
   },
   {
    "duration": 12,
    "start_time": "2022-08-29T11:07:32.701Z"
   },
   {
    "duration": 19,
    "start_time": "2022-08-29T11:07:33.945Z"
   },
   {
    "duration": 76,
    "start_time": "2022-08-29T11:09:22.574Z"
   },
   {
    "duration": 65,
    "start_time": "2022-08-29T11:09:33.736Z"
   },
   {
    "duration": 12,
    "start_time": "2022-08-29T11:10:43.068Z"
   },
   {
    "duration": 12,
    "start_time": "2022-08-29T11:10:54.605Z"
   },
   {
    "duration": 11,
    "start_time": "2022-08-29T11:11:00.836Z"
   },
   {
    "duration": 59,
    "start_time": "2022-08-29T11:12:27.924Z"
   },
   {
    "duration": 63,
    "start_time": "2022-08-29T11:12:35.011Z"
   },
   {
    "duration": 23,
    "start_time": "2022-08-29T11:12:54.406Z"
   },
   {
    "duration": 55,
    "start_time": "2022-08-29T11:13:04.131Z"
   },
   {
    "duration": 36,
    "start_time": "2022-08-29T11:13:48.899Z"
   },
   {
    "duration": 17,
    "start_time": "2022-08-29T11:13:52.175Z"
   },
   {
    "duration": 103,
    "start_time": "2022-08-29T11:18:14.338Z"
   },
   {
    "duration": 94,
    "start_time": "2022-08-29T11:18:45.077Z"
   },
   {
    "duration": 63,
    "start_time": "2022-08-29T11:19:13.035Z"
   },
   {
    "duration": 67,
    "start_time": "2022-08-29T11:19:18.413Z"
   },
   {
    "duration": 12,
    "start_time": "2022-08-29T11:19:31.075Z"
   },
   {
    "duration": 14,
    "start_time": "2022-08-29T11:20:00.125Z"
   },
   {
    "duration": 30,
    "start_time": "2022-08-29T11:20:03.671Z"
   },
   {
    "duration": 11,
    "start_time": "2022-08-29T11:20:25.059Z"
   },
   {
    "duration": 12,
    "start_time": "2022-08-29T11:20:47.335Z"
   },
   {
    "duration": 10,
    "start_time": "2022-08-29T11:23:06.619Z"
   },
   {
    "duration": 13,
    "start_time": "2022-08-29T11:23:20.355Z"
   },
   {
    "duration": 162,
    "start_time": "2022-08-29T11:23:45.616Z"
   },
   {
    "duration": 471,
    "start_time": "2022-08-29T11:29:22.638Z"
   },
   {
    "duration": 22,
    "start_time": "2022-08-29T11:29:23.111Z"
   },
   {
    "duration": 14,
    "start_time": "2022-08-29T11:29:23.135Z"
   },
   {
    "duration": 7,
    "start_time": "2022-08-29T11:29:23.152Z"
   },
   {
    "duration": 56,
    "start_time": "2022-08-29T11:29:23.161Z"
   },
   {
    "duration": 4,
    "start_time": "2022-08-29T11:29:23.222Z"
   },
   {
    "duration": 12,
    "start_time": "2022-08-29T11:29:23.227Z"
   },
   {
    "duration": 12,
    "start_time": "2022-08-29T11:29:23.240Z"
   },
   {
    "duration": 13,
    "start_time": "2022-08-29T11:29:23.253Z"
   },
   {
    "duration": 22,
    "start_time": "2022-08-29T11:29:23.269Z"
   },
   {
    "duration": 40,
    "start_time": "2022-08-29T11:29:23.293Z"
   },
   {
    "duration": 8,
    "start_time": "2022-08-29T11:29:23.335Z"
   },
   {
    "duration": 3,
    "start_time": "2022-08-29T11:29:23.344Z"
   },
   {
    "duration": 15,
    "start_time": "2022-08-29T11:29:23.348Z"
   },
   {
    "duration": 23,
    "start_time": "2022-08-29T11:29:23.365Z"
   },
   {
    "duration": 31,
    "start_time": "2022-08-29T11:29:23.389Z"
   },
   {
    "duration": 4,
    "start_time": "2022-08-29T11:29:23.422Z"
   },
   {
    "duration": 19,
    "start_time": "2022-08-29T11:29:23.428Z"
   },
   {
    "duration": 5,
    "start_time": "2022-08-29T11:29:23.449Z"
   },
   {
    "duration": 5,
    "start_time": "2022-08-29T11:29:23.455Z"
   },
   {
    "duration": 10,
    "start_time": "2022-08-29T11:29:23.461Z"
   },
   {
    "duration": 15,
    "start_time": "2022-08-29T11:29:23.473Z"
   },
   {
    "duration": 40,
    "start_time": "2022-08-29T11:29:23.489Z"
   },
   {
    "duration": 6,
    "start_time": "2022-08-29T11:29:23.531Z"
   },
   {
    "duration": 8,
    "start_time": "2022-08-29T11:29:23.539Z"
   },
   {
    "duration": 13,
    "start_time": "2022-08-29T11:29:23.549Z"
   },
   {
    "duration": 9,
    "start_time": "2022-08-29T11:29:23.563Z"
   },
   {
    "duration": 7,
    "start_time": "2022-08-29T11:29:23.575Z"
   },
   {
    "duration": 6,
    "start_time": "2022-08-29T11:29:23.583Z"
   },
   {
    "duration": 23,
    "start_time": "2022-08-29T11:29:23.590Z"
   },
   {
    "duration": 12,
    "start_time": "2022-08-29T11:29:23.615Z"
   },
   {
    "duration": 18,
    "start_time": "2022-08-29T11:29:23.628Z"
   },
   {
    "duration": 6,
    "start_time": "2022-08-29T11:29:23.647Z"
   },
   {
    "duration": 12,
    "start_time": "2022-08-29T11:29:23.654Z"
   },
   {
    "duration": 2,
    "start_time": "2022-08-29T11:29:23.667Z"
   },
   {
    "duration": 72,
    "start_time": "2022-08-29T11:33:52.535Z"
   },
   {
    "duration": 7,
    "start_time": "2022-08-29T11:33:59.303Z"
   },
   {
    "duration": 17,
    "start_time": "2022-08-29T11:35:57.067Z"
   },
   {
    "duration": 5,
    "start_time": "2022-08-29T11:36:03.463Z"
   },
   {
    "duration": 11,
    "start_time": "2022-08-29T11:36:51.368Z"
   },
   {
    "duration": 10,
    "start_time": "2022-08-29T11:36:54.075Z"
   },
   {
    "duration": 61,
    "start_time": "2022-08-29T11:37:28.632Z"
   },
   {
    "duration": 8,
    "start_time": "2022-08-29T11:37:42.104Z"
   },
   {
    "duration": 10,
    "start_time": "2022-08-29T11:37:50.527Z"
   },
   {
    "duration": 16,
    "start_time": "2022-08-29T11:38:10.661Z"
   },
   {
    "duration": 9,
    "start_time": "2022-08-29T11:38:15.750Z"
   },
   {
    "duration": 10,
    "start_time": "2022-08-29T11:38:18.908Z"
   },
   {
    "duration": 8,
    "start_time": "2022-08-29T11:38:27.100Z"
   },
   {
    "duration": 10,
    "start_time": "2022-08-29T11:38:28.526Z"
   },
   {
    "duration": 106,
    "start_time": "2022-08-29T11:43:10.880Z"
   },
   {
    "duration": 26,
    "start_time": "2022-08-29T11:43:20.439Z"
   },
   {
    "duration": 2,
    "start_time": "2022-08-29T11:44:52.880Z"
   },
   {
    "duration": 13,
    "start_time": "2022-08-29T11:46:35.256Z"
   },
   {
    "duration": 34,
    "start_time": "2022-08-29T11:48:44.676Z"
   },
   {
    "duration": 34,
    "start_time": "2022-08-29T11:49:22.764Z"
   },
   {
    "duration": 14,
    "start_time": "2022-08-29T11:51:40.307Z"
   },
   {
    "duration": 12,
    "start_time": "2022-08-29T11:51:46.215Z"
   },
   {
    "duration": 26,
    "start_time": "2022-08-29T11:51:51.099Z"
   },
   {
    "duration": 20,
    "start_time": "2022-08-29T11:51:58.431Z"
   },
   {
    "duration": 12,
    "start_time": "2022-08-29T11:55:44.980Z"
   },
   {
    "duration": 22,
    "start_time": "2022-08-29T11:56:32.571Z"
   },
   {
    "duration": 20,
    "start_time": "2022-08-29T11:56:49.138Z"
   },
   {
    "duration": 24,
    "start_time": "2022-08-29T11:58:19.839Z"
   },
   {
    "duration": 19,
    "start_time": "2022-08-29T11:59:19.024Z"
   },
   {
    "duration": 8,
    "start_time": "2022-08-29T12:22:15.884Z"
   },
   {
    "duration": 8,
    "start_time": "2022-08-29T12:22:19.392Z"
   },
   {
    "duration": 10,
    "start_time": "2022-08-29T12:22:41.161Z"
   },
   {
    "duration": 9,
    "start_time": "2022-08-29T12:22:44.219Z"
   },
   {
    "duration": 9,
    "start_time": "2022-08-29T13:06:06.629Z"
   },
   {
    "duration": 9,
    "start_time": "2022-08-29T13:06:09.396Z"
   },
   {
    "duration": 23,
    "start_time": "2022-08-29T13:07:18.729Z"
   },
   {
    "duration": 10,
    "start_time": "2022-08-29T13:07:34.505Z"
   },
   {
    "duration": 12,
    "start_time": "2022-08-29T13:07:45.645Z"
   },
   {
    "duration": 9,
    "start_time": "2022-08-29T13:11:51.714Z"
   },
   {
    "duration": 11,
    "start_time": "2022-08-29T13:12:50.257Z"
   },
   {
    "duration": 10,
    "start_time": "2022-08-29T13:12:59.718Z"
   },
   {
    "duration": 9,
    "start_time": "2022-08-29T13:13:10.046Z"
   },
   {
    "duration": 10,
    "start_time": "2022-08-29T13:13:52.305Z"
   },
   {
    "duration": 25,
    "start_time": "2022-08-29T13:20:42.176Z"
   },
   {
    "duration": 8,
    "start_time": "2022-08-29T13:22:45.922Z"
   },
   {
    "duration": 22,
    "start_time": "2022-08-29T13:22:51.794Z"
   },
   {
    "duration": 53,
    "start_time": "2022-08-29T13:23:38.940Z"
   },
   {
    "duration": 20,
    "start_time": "2022-08-29T13:23:49.394Z"
   },
   {
    "duration": 15,
    "start_time": "2022-08-29T13:23:57.702Z"
   },
   {
    "duration": 8,
    "start_time": "2022-08-29T13:34:40.552Z"
   },
   {
    "duration": 8,
    "start_time": "2022-08-29T13:35:37.486Z"
   },
   {
    "duration": 7,
    "start_time": "2022-08-29T13:35:54.270Z"
   },
   {
    "duration": 6,
    "start_time": "2022-08-29T13:37:31.786Z"
   },
   {
    "duration": 13,
    "start_time": "2022-08-29T13:39:19.428Z"
   },
   {
    "duration": 8,
    "start_time": "2022-08-29T13:41:29.138Z"
   },
   {
    "duration": 8,
    "start_time": "2022-08-29T13:41:32.750Z"
   },
   {
    "duration": 5,
    "start_time": "2022-08-29T13:41:39.824Z"
   },
   {
    "duration": 12,
    "start_time": "2022-08-29T13:41:42.186Z"
   },
   {
    "duration": 14,
    "start_time": "2022-08-29T14:11:05.558Z"
   },
   {
    "duration": 22,
    "start_time": "2022-08-29T14:11:18.183Z"
   },
   {
    "duration": 22,
    "start_time": "2022-08-29T14:11:50.394Z"
   },
   {
    "duration": 19,
    "start_time": "2022-08-29T14:12:27.955Z"
   },
   {
    "duration": 15,
    "start_time": "2022-08-29T14:12:38.910Z"
   },
   {
    "duration": 26,
    "start_time": "2022-08-29T14:17:32.098Z"
   },
   {
    "duration": 428,
    "start_time": "2022-08-29T14:17:47.342Z"
   },
   {
    "duration": 21,
    "start_time": "2022-08-29T14:17:47.772Z"
   },
   {
    "duration": 16,
    "start_time": "2022-08-29T14:17:47.795Z"
   },
   {
    "duration": 8,
    "start_time": "2022-08-29T14:17:47.813Z"
   },
   {
    "duration": 48,
    "start_time": "2022-08-29T14:17:47.823Z"
   },
   {
    "duration": 3,
    "start_time": "2022-08-29T14:17:47.873Z"
   },
   {
    "duration": 12,
    "start_time": "2022-08-29T14:17:47.878Z"
   },
   {
    "duration": 21,
    "start_time": "2022-08-29T14:17:47.891Z"
   },
   {
    "duration": 7,
    "start_time": "2022-08-29T14:17:47.914Z"
   },
   {
    "duration": 4,
    "start_time": "2022-08-29T14:17:47.923Z"
   },
   {
    "duration": 33,
    "start_time": "2022-08-29T14:17:47.928Z"
   },
   {
    "duration": 8,
    "start_time": "2022-08-29T14:17:47.963Z"
   },
   {
    "duration": 6,
    "start_time": "2022-08-29T14:17:47.973Z"
   },
   {
    "duration": 38,
    "start_time": "2022-08-29T14:17:47.980Z"
   },
   {
    "duration": 18,
    "start_time": "2022-08-29T14:17:48.019Z"
   },
   {
    "duration": 16,
    "start_time": "2022-08-29T14:17:48.039Z"
   },
   {
    "duration": 4,
    "start_time": "2022-08-29T14:17:48.056Z"
   },
   {
    "duration": 13,
    "start_time": "2022-08-29T14:17:48.061Z"
   },
   {
    "duration": 5,
    "start_time": "2022-08-29T14:17:48.075Z"
   },
   {
    "duration": 4,
    "start_time": "2022-08-29T14:17:48.082Z"
   },
   {
    "duration": 8,
    "start_time": "2022-08-29T14:17:48.111Z"
   },
   {
    "duration": 14,
    "start_time": "2022-08-29T14:17:48.120Z"
   },
   {
    "duration": 8,
    "start_time": "2022-08-29T14:17:48.135Z"
   },
   {
    "duration": 6,
    "start_time": "2022-08-29T14:17:48.144Z"
   },
   {
    "duration": 6,
    "start_time": "2022-08-29T14:17:48.151Z"
   },
   {
    "duration": 10,
    "start_time": "2022-08-29T14:17:48.158Z"
   },
   {
    "duration": 45,
    "start_time": "2022-08-29T14:17:48.169Z"
   },
   {
    "duration": 6,
    "start_time": "2022-08-29T14:17:48.217Z"
   },
   {
    "duration": 5,
    "start_time": "2022-08-29T14:17:48.225Z"
   },
   {
    "duration": 14,
    "start_time": "2022-08-29T14:17:48.231Z"
   },
   {
    "duration": 15,
    "start_time": "2022-08-29T14:17:48.246Z"
   },
   {
    "duration": 8,
    "start_time": "2022-08-29T14:17:48.263Z"
   },
   {
    "duration": 8,
    "start_time": "2022-08-29T14:17:48.273Z"
   },
   {
    "duration": 45,
    "start_time": "2022-08-29T14:17:48.282Z"
   },
   {
    "duration": 9,
    "start_time": "2022-08-29T14:17:48.329Z"
   },
   {
    "duration": 9,
    "start_time": "2022-08-29T14:17:48.340Z"
   },
   {
    "duration": 12,
    "start_time": "2022-08-29T14:17:48.350Z"
   },
   {
    "duration": 18,
    "start_time": "2022-08-29T14:17:48.364Z"
   },
   {
    "duration": 446,
    "start_time": "2022-08-29T14:25:27.720Z"
   },
   {
    "duration": 19,
    "start_time": "2022-08-29T14:25:28.168Z"
   },
   {
    "duration": 12,
    "start_time": "2022-08-29T14:25:28.189Z"
   },
   {
    "duration": 8,
    "start_time": "2022-08-29T14:25:28.203Z"
   },
   {
    "duration": 31,
    "start_time": "2022-08-29T14:25:28.213Z"
   },
   {
    "duration": 3,
    "start_time": "2022-08-29T14:25:28.246Z"
   },
   {
    "duration": 11,
    "start_time": "2022-08-29T14:25:28.250Z"
   },
   {
    "duration": 4,
    "start_time": "2022-08-29T14:25:28.262Z"
   },
   {
    "duration": 8,
    "start_time": "2022-08-29T14:25:28.267Z"
   },
   {
    "duration": 4,
    "start_time": "2022-08-29T14:25:28.277Z"
   },
   {
    "duration": 38,
    "start_time": "2022-08-29T14:25:28.310Z"
   },
   {
    "duration": 9,
    "start_time": "2022-08-29T14:25:28.350Z"
   },
   {
    "duration": 6,
    "start_time": "2022-08-29T14:25:28.360Z"
   },
   {
    "duration": 16,
    "start_time": "2022-08-29T14:25:28.367Z"
   },
   {
    "duration": 34,
    "start_time": "2022-08-29T14:25:28.384Z"
   },
   {
    "duration": 16,
    "start_time": "2022-08-29T14:25:28.420Z"
   },
   {
    "duration": 4,
    "start_time": "2022-08-29T14:25:28.437Z"
   },
   {
    "duration": 11,
    "start_time": "2022-08-29T14:25:28.442Z"
   },
   {
    "duration": 5,
    "start_time": "2022-08-29T14:25:28.454Z"
   },
   {
    "duration": 5,
    "start_time": "2022-08-29T14:25:28.460Z"
   },
   {
    "duration": 15,
    "start_time": "2022-08-29T14:25:28.466Z"
   },
   {
    "duration": 35,
    "start_time": "2022-08-29T14:25:28.482Z"
   },
   {
    "duration": 8,
    "start_time": "2022-08-29T14:25:28.519Z"
   },
   {
    "duration": 7,
    "start_time": "2022-08-29T14:25:28.528Z"
   },
   {
    "duration": 9,
    "start_time": "2022-08-29T14:25:28.536Z"
   },
   {
    "duration": 14,
    "start_time": "2022-08-29T14:25:28.546Z"
   },
   {
    "duration": 10,
    "start_time": "2022-08-29T14:25:28.561Z"
   },
   {
    "duration": 10,
    "start_time": "2022-08-29T14:25:28.574Z"
   },
   {
    "duration": 7,
    "start_time": "2022-08-29T14:25:28.586Z"
   },
   {
    "duration": 23,
    "start_time": "2022-08-29T14:25:28.594Z"
   },
   {
    "duration": 11,
    "start_time": "2022-08-29T14:25:28.618Z"
   },
   {
    "duration": 8,
    "start_time": "2022-08-29T14:25:28.630Z"
   },
   {
    "duration": 8,
    "start_time": "2022-08-29T14:25:28.639Z"
   },
   {
    "duration": 22,
    "start_time": "2022-08-29T14:25:28.649Z"
   },
   {
    "duration": 7,
    "start_time": "2022-08-29T14:25:28.672Z"
   },
   {
    "duration": 9,
    "start_time": "2022-08-29T14:25:28.680Z"
   },
   {
    "duration": 25,
    "start_time": "2022-08-29T14:25:28.690Z"
   },
   {
    "duration": 12,
    "start_time": "2022-08-29T14:25:28.716Z"
   },
   {
    "duration": 46,
    "start_time": "2022-08-29T16:46:04.607Z"
   },
   {
    "duration": 687,
    "start_time": "2022-08-29T16:46:08.401Z"
   },
   {
    "duration": 21,
    "start_time": "2022-08-29T16:46:09.090Z"
   },
   {
    "duration": 15,
    "start_time": "2022-08-29T16:46:09.112Z"
   },
   {
    "duration": 8,
    "start_time": "2022-08-29T16:46:09.128Z"
   },
   {
    "duration": 50,
    "start_time": "2022-08-29T16:46:09.138Z"
   },
   {
    "duration": 3,
    "start_time": "2022-08-29T16:46:09.190Z"
   },
   {
    "duration": 10,
    "start_time": "2022-08-29T16:46:09.195Z"
   },
   {
    "duration": 4,
    "start_time": "2022-08-29T16:46:09.206Z"
   },
   {
    "duration": 11,
    "start_time": "2022-08-29T16:46:09.211Z"
   },
   {
    "duration": 4,
    "start_time": "2022-08-29T16:46:09.223Z"
   },
   {
    "duration": 30,
    "start_time": "2022-08-29T16:46:09.229Z"
   },
   {
    "duration": 31,
    "start_time": "2022-08-29T16:46:09.260Z"
   },
   {
    "duration": 4,
    "start_time": "2022-08-29T16:46:09.292Z"
   },
   {
    "duration": 13,
    "start_time": "2022-08-29T16:46:09.299Z"
   },
   {
    "duration": 18,
    "start_time": "2022-08-29T16:46:09.314Z"
   },
   {
    "duration": 15,
    "start_time": "2022-08-29T16:46:09.333Z"
   },
   {
    "duration": 3,
    "start_time": "2022-08-29T16:46:09.349Z"
   },
   {
    "duration": 35,
    "start_time": "2022-08-29T16:46:09.353Z"
   },
   {
    "duration": 5,
    "start_time": "2022-08-29T16:46:09.390Z"
   },
   {
    "duration": 6,
    "start_time": "2022-08-29T16:46:09.397Z"
   },
   {
    "duration": 12,
    "start_time": "2022-08-29T16:46:09.404Z"
   },
   {
    "duration": 15,
    "start_time": "2022-08-29T16:46:09.418Z"
   },
   {
    "duration": 14,
    "start_time": "2022-08-29T16:46:09.434Z"
   },
   {
    "duration": 7,
    "start_time": "2022-08-29T16:46:09.450Z"
   },
   {
    "duration": 28,
    "start_time": "2022-08-29T16:46:09.459Z"
   },
   {
    "duration": 25,
    "start_time": "2022-08-29T16:46:09.489Z"
   },
   {
    "duration": 411,
    "start_time": "2022-08-29T16:46:09.516Z"
   },
   {
    "duration": 8,
    "start_time": "2022-08-29T16:46:09.928Z"
   },
   {
    "duration": 20,
    "start_time": "2022-08-29T16:46:09.938Z"
   },
   {
    "duration": 8,
    "start_time": "2022-08-29T16:46:09.959Z"
   },
   {
    "duration": 24,
    "start_time": "2022-08-29T16:46:09.968Z"
   },
   {
    "duration": 10,
    "start_time": "2022-08-29T16:46:09.993Z"
   },
   {
    "duration": 9,
    "start_time": "2022-08-29T16:46:10.005Z"
   },
   {
    "duration": 22,
    "start_time": "2022-08-29T16:46:10.015Z"
   },
   {
    "duration": 40,
    "start_time": "2022-08-29T16:46:10.038Z"
   },
   {
    "duration": 10,
    "start_time": "2022-08-29T16:46:10.079Z"
   },
   {
    "duration": 13,
    "start_time": "2022-08-29T16:46:10.090Z"
   },
   {
    "duration": 8,
    "start_time": "2022-08-29T16:46:10.104Z"
   },
   {
    "duration": 25,
    "start_time": "2022-08-29T16:46:10.115Z"
   },
   {
    "duration": 12,
    "start_time": "2022-08-29T16:46:14.217Z"
   },
   {
    "duration": 13,
    "start_time": "2022-08-29T16:46:18.796Z"
   },
   {
    "duration": 6,
    "start_time": "2022-08-29T16:46:18.810Z"
   },
   {
    "duration": 6,
    "start_time": "2022-08-29T16:46:18.817Z"
   },
   {
    "duration": 7,
    "start_time": "2022-08-29T16:46:18.825Z"
   },
   {
    "duration": 11,
    "start_time": "2022-08-29T16:46:18.833Z"
   },
   {
    "duration": 9,
    "start_time": "2022-08-29T16:46:18.846Z"
   },
   {
    "duration": 8,
    "start_time": "2022-08-29T16:46:18.856Z"
   },
   {
    "duration": 4,
    "start_time": "2022-08-29T16:46:18.885Z"
   },
   {
    "duration": 41,
    "start_time": "2022-08-29T16:46:18.890Z"
   },
   {
    "duration": 6,
    "start_time": "2022-08-29T16:46:18.933Z"
   },
   {
    "duration": 16,
    "start_time": "2022-08-29T16:46:18.941Z"
   },
   {
    "duration": 13,
    "start_time": "2022-08-29T16:46:18.958Z"
   },
   {
    "duration": 19,
    "start_time": "2022-08-29T16:46:18.972Z"
   },
   {
    "duration": 79,
    "start_time": "2022-08-29T16:53:18.688Z"
   },
   {
    "duration": 99,
    "start_time": "2022-08-29T16:54:52.470Z"
   },
   {
    "duration": 102,
    "start_time": "2022-08-29T16:54:53.068Z"
   },
   {
    "duration": 96,
    "start_time": "2022-08-29T16:54:53.799Z"
   },
   {
    "duration": 91,
    "start_time": "2022-08-29T16:54:54.461Z"
   }
  ],
  "colab": {
   "name": "dpp_template_part2.ipynb",
   "provenance": []
  },
  "kernelspec": {
   "display_name": "Python 3 (ipykernel)",
   "language": "python",
   "name": "python3"
  },
  "language_info": {
   "codemirror_mode": {
    "name": "ipython",
    "version": 3
   },
   "file_extension": ".py",
   "mimetype": "text/x-python",
   "name": "python",
   "nbconvert_exporter": "python",
   "pygments_lexer": "ipython3",
   "version": "3.9.12"
  },
  "toc": {
   "base_numbering": 1,
   "nav_menu": {},
   "number_sections": true,
   "sideBar": true,
   "skip_h1_title": true,
   "title_cell": "Table of Contents",
   "title_sidebar": "Contents",
   "toc_cell": false,
   "toc_position": {},
   "toc_section_display": true,
   "toc_window_display": false
  }
 },
 "nbformat": 4,
 "nbformat_minor": 5
}
